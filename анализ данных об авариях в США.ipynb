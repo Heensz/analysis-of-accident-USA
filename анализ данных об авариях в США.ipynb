{
 "cells": [
  {
   "cell_type": "code",
   "execution_count": 1,
   "id": "c1f50207",
   "metadata": {},
   "outputs": [
    {
     "name": "stderr",
     "output_type": "stream",
     "text": [
      "c:\\Users\\Redmi\\anaconda3\\envs\\da_practicum_env\\lib\\site-packages\\scipy\\__init__.py:146: UserWarning: A NumPy version >=1.17.3 and <1.25.0 is required for this version of SciPy (detected version 1.25.0\n",
      "  warnings.warn(f\"A NumPy version >={np_minversion} and <{np_maxversion}\"\n"
     ]
    }
   ],
   "source": [
    "import pandas as pd\n",
    "import seaborn as sns\n",
    "import matplotlib.pyplot as plt"
   ]
  },
  {
   "cell_type": "markdown",
   "id": "32b9a378",
   "metadata": {},
   "source": [
    "## Анализ данных об авариях в США за 2022 год."
   ]
  },
  {
   "cell_type": "markdown",
   "id": "411b8862",
   "metadata": {},
   "source": [
    "Целью данного проекта является анализ данных об авариях, произошедших в США в 2022 году, с целью выявления инсайтов и закономерностей, которые могут помочь в принятии мер по снижению количества аварий, включая улучшение дорожной инфраструктуры, введение ограничений в определенных условиях, улучшение погодных прогнозов и других мер безопасности. Путем проведения исследовательского анализа мы стремимся выяснить, как погодные условия, время суток, серьезность ущерба, а также географические факторы влияют на количество происшедших аварий.\n",
    "\n",
    "Предполагаем, что исследование позволит выявить основные факторы, которые влияют на количество аварий и оценить обстановку с авариями в целом.\n",
    "\n",
    "План работы:\n",
    "\n",
    "Шаг 1. Загрузка данных\n",
    "\n",
    "Шаг 2. Предобработка данных\n",
    "\n",
    "2.1 Проверить пропуски и дубликаты\n",
    "\n",
    "2.2 Привести названия столбцов к змеиному типу\n",
    "\n",
    "2.3 Выделить столбик с месяцем аварии\n",
    "\n",
    "Шаг 3. Исследовательский анализ\n",
    "\n",
    "\n",
    "3.1 Анализ степени серьезности аварий (severity):\n",
    "\n",
    "    3.1.1 Определить наиболее часто встречающуюся степень серьезности аварий.\n",
    "\n",
    "    3.1.2 Проанализировать зависимость между степенью серьезности и погодными условиями\n",
    "\n",
    "    3.1.3 Проанализировать зависимость между степенью серьезности и временем суток\n",
    "\n",
    "3.2 Определить, какие погодные условия чаще всего сопровождают аварии.\n",
    "\n",
    "    3.2.2 Исследовать связь между погодными условиями и количеством аварий\n",
    "\n",
    "    3.3.3 Исследовать связь между температурой воздуха и количеством аварий\n",
    "\n",
    "3.3 Географические особенности:\n",
    "\n",
    "    3.2.1 Изучить распределение аварий по городам, штатам и странам.\n",
    "\n",
    "    3.3.2 Определить наиболее аварийные местности и выявить причины их повышенной аварийности.\n",
    "\n",
    "    3.3.3 Влияние времени суток на аварии:\n",
    "\n",
    "3.4 Проанализировать количество аварий в зависимости от времени суток (день/ночь).\n",
    "\n",
    "    3.4.1 Определить, возможно ли сезонное влияние на частоту происшедших аварий.\n",
    "\n",
    "    3.4.2 Влияние дополнительных факторов на аварии:\n",
    "\n",
    "3.5 Оценить, как наличие различных объектов и удобств в близлежащих местах (например, перекрестков, светофоров, станций) влияет на количество аварий.\n",
    "\n",
    "3.6 Проанализировать, как световые условия влияют на количесвто аварий:\n",
    "\n",
    "3.6.1 Проанализировать различия в количестве аварий в зависимости от периода дня (день/ночь) и световых условий (гражданские, морские, астрономические сумерки)."
   ]
  },
  {
   "cell_type": "markdown",
   "id": "232d9a8b",
   "metadata": {},
   "source": [
    "## Предобработка данных."
   ]
  },
  {
   "cell_type": "code",
   "execution_count": 2,
   "id": "20b0f324",
   "metadata": {},
   "outputs": [],
   "source": [
    "# укажем путь к датасету\n",
    "csv_file_path = \"D:\\\\проекты порт\\\\US_Accidents_March23.csv\"\n",
    "population=\"D:\\\\проекты порт\\\\population of USA cities.xlsx\""
   ]
  },
  {
   "cell_type": "code",
   "execution_count": 3,
   "id": "0ff2842e",
   "metadata": {},
   "outputs": [
    {
     "name": "stdout",
     "output_type": "stream",
     "text": [
      "       Name, city Population\n",
      "0        New York  8 244 936\n",
      "1     Los Angeles  3 884 319\n",
      "2         Chicago  2 695 615\n",
      "3         Houston  2 195 984\n",
      "4    Philadelphia  1 526 026\n",
      "..            ...        ...\n",
      "95         Tacoma    203 496\n",
      "96     Des Moines    203 474\n",
      "97         Oxnard    203 042\n",
      "98        Fontana    203 023\n",
      "99  Moreno Valley    201 249\n",
      "\n",
      "[100 rows x 2 columns]\n"
     ]
    }
   ],
   "source": [
    "population=pd.read_excel(population)\n",
    "print(population)"
   ]
  },
  {
   "cell_type": "code",
   "execution_count": 4,
   "id": "1bd9afd5",
   "metadata": {},
   "outputs": [
    {
     "name": "stdout",
     "output_type": "stream",
     "text": [
      "<class 'pandas.core.frame.DataFrame'>\n",
      "RangeIndex: 100 entries, 0 to 99\n",
      "Data columns (total 2 columns):\n",
      " #   Column      Non-Null Count  Dtype \n",
      "---  ------      --------------  ----- \n",
      " 0   Name, city  100 non-null    object\n",
      " 1   Population  100 non-null    object\n",
      "dtypes: object(2)\n",
      "memory usage: 1.7+ KB\n"
     ]
    }
   ],
   "source": [
    "population.info()"
   ]
  },
  {
   "cell_type": "code",
   "execution_count": 5,
   "id": "09aa534e",
   "metadata": {},
   "outputs": [
    {
     "name": "stdout",
     "output_type": "stream",
     "text": [
      "Общее число строк в файле: 7728394\n"
     ]
    }
   ],
   "source": [
    "# Чтение данных порциями с использованием параметра chunksize\n",
    "chunk_size = 100000  # Указать подходящий размер порции\n",
    "chunks = pd.read_csv(csv_file_path, chunksize=chunk_size)\n",
    "\n",
    "# подсчет общего числа строк в файле\n",
    "total_rows = 0\n",
    "\n",
    "# Обработка данных в цикле\n",
    "for chunk in chunks:\n",
    "    total_rows += len(chunk)\n",
    "\n",
    "# Вывод общего числа строк в файле\n",
    "print(\"Общее число строк в файле:\", total_rows)\n"
   ]
  },
  {
   "cell_type": "code",
   "execution_count": 6,
   "id": "96e846c1",
   "metadata": {},
   "outputs": [],
   "source": [
    "# Посмотрим общую информацию о данных в каждой порции\n",
    "for chunk in chunks:\n",
    "    print(chunk.info())"
   ]
  },
  {
   "cell_type": "code",
   "execution_count": 7,
   "id": "2d0e393b",
   "metadata": {
    "scrolled": true
   },
   "outputs": [
    {
     "name": "stdout",
     "output_type": "stream",
     "text": [
      "             ID   Source  Severity           Start_Time             End_Time  \\\n",
      "0           A-1  Source2         3  2016-02-08 05:46:00  2016-02-08 11:00:00   \n",
      "1           A-2  Source2         2  2016-02-08 06:07:59  2016-02-08 06:37:59   \n",
      "2           A-3  Source2         2  2016-02-08 06:49:27  2016-02-08 07:19:27   \n",
      "3           A-4  Source2         3  2016-02-08 07:23:34  2016-02-08 07:53:34   \n",
      "4           A-5  Source2         2  2016-02-08 07:39:07  2016-02-08 08:09:07   \n",
      "...         ...      ...       ...                  ...                  ...   \n",
      "99995  A-100002  Source2         3  2016-04-05 15:52:14  2016-04-05 16:52:14   \n",
      "99996  A-100003  Source2         3  2016-04-05 15:57:10  2016-04-05 16:57:10   \n",
      "99997  A-100004  Source2         2  2016-04-05 16:02:16  2016-04-05 17:02:16   \n",
      "99998  A-100005  Source3         2  2016-04-05 16:01:17  2016-04-05 17:01:17   \n",
      "99999  A-100006  Source2         2  2016-04-05 16:06:41  2016-04-05 17:06:41   \n",
      "\n",
      "       Start_Lat   Start_Lng  End_Lat  End_Lng  Distance(mi)  ... Roundabout  \\\n",
      "0      39.865147  -84.058723      NaN      NaN          0.01  ...      False   \n",
      "1      39.928059  -82.831184      NaN      NaN          0.01  ...      False   \n",
      "2      39.063148  -84.032608      NaN      NaN          0.01  ...      False   \n",
      "3      39.747753  -84.205582      NaN      NaN          0.01  ...      False   \n",
      "4      39.627781  -84.188354      NaN      NaN          0.01  ...      False   \n",
      "...          ...         ...      ...      ...           ...  ...        ...   \n",
      "99995  32.731979 -117.111244      NaN      NaN          0.00  ...      False   \n",
      "99996  33.913029 -118.125389      NaN      NaN          0.00  ...      False   \n",
      "99997  34.121517 -117.536896      NaN      NaN          0.00  ...      False   \n",
      "99998  33.995079 -117.361183      NaN      NaN          0.00  ...      False   \n",
      "99999  34.034119 -118.013443      NaN      NaN          0.00  ...      False   \n",
      "\n",
      "      Station   Stop Traffic_Calming Traffic_Signal Turning_Loop  \\\n",
      "0       False  False           False          False        False   \n",
      "1       False  False           False          False        False   \n",
      "2       False  False           False           True        False   \n",
      "3       False  False           False          False        False   \n",
      "4       False  False           False           True        False   \n",
      "...       ...    ...             ...            ...          ...   \n",
      "99995   False  False           False          False        False   \n",
      "99996   False  False           False          False        False   \n",
      "99997   False  False           False           True        False   \n",
      "99998   False  False           False          False        False   \n",
      "99999   False  False           False          False        False   \n",
      "\n",
      "      Sunrise_Sunset Civil_Twilight Nautical_Twilight Astronomical_Twilight  \n",
      "0              Night          Night             Night                 Night  \n",
      "1              Night          Night             Night                   Day  \n",
      "2              Night          Night               Day                   Day  \n",
      "3              Night            Day               Day                   Day  \n",
      "4                Day            Day               Day                   Day  \n",
      "...              ...            ...               ...                   ...  \n",
      "99995            Day            Day               Day                   Day  \n",
      "99996            Day            Day               Day                   Day  \n",
      "99997            Day            Day               Day                   Day  \n",
      "99998            Day            Day               Day                   Day  \n",
      "99999            Day            Day               Day                   Day  \n",
      "\n",
      "[100000 rows x 46 columns]\n"
     ]
    }
   ],
   "source": [
    "# Чтение данных порциями с использованием параметра chunksize\n",
    "chunk_size = 100000\n",
    "chunks = pd.read_csv(csv_file_path, chunksize=chunk_size)\n",
    "\n",
    "# Выберем первую порцию данных и выведем ее содержимое\n",
    "first_chunk = next(chunks)\n",
    "print(first_chunk)"
   ]
  },
  {
   "cell_type": "code",
   "execution_count": 8,
   "id": "2b61ab8e",
   "metadata": {
    "scrolled": true
   },
   "outputs": [
    {
     "name": "stdout",
     "output_type": "stream",
     "text": [
      "<class 'pandas.core.frame.DataFrame'>\n",
      "Int64Index: 1762452 entries, 512217 to 5423496\n",
      "Data columns (total 46 columns):\n",
      " #   Column                 Dtype         \n",
      "---  ------                 -----         \n",
      " 0   ID                     object        \n",
      " 1   Source                 object        \n",
      " 2   Severity               int64         \n",
      " 3   Start_Time             datetime64[ns]\n",
      " 4   End_Time               object        \n",
      " 5   Start_Lat              float64       \n",
      " 6   Start_Lng              float64       \n",
      " 7   End_Lat                float64       \n",
      " 8   End_Lng                float64       \n",
      " 9   Distance(mi)           float64       \n",
      " 10  Description            object        \n",
      " 11  Street                 object        \n",
      " 12  City                   object        \n",
      " 13  County                 object        \n",
      " 14  State                  object        \n",
      " 15  Zipcode                object        \n",
      " 16  Country                object        \n",
      " 17  Timezone               object        \n",
      " 18  Airport_Code           object        \n",
      " 19  Weather_Timestamp      object        \n",
      " 20  Temperature(F)         float64       \n",
      " 21  Wind_Chill(F)          float64       \n",
      " 22  Humidity(%)            float64       \n",
      " 23  Pressure(in)           float64       \n",
      " 24  Visibility(mi)         float64       \n",
      " 25  Wind_Direction         object        \n",
      " 26  Wind_Speed(mph)        float64       \n",
      " 27  Precipitation(in)      float64       \n",
      " 28  Weather_Condition      object        \n",
      " 29  Amenity                bool          \n",
      " 30  Bump                   bool          \n",
      " 31  Crossing               bool          \n",
      " 32  Give_Way               bool          \n",
      " 33  Junction               bool          \n",
      " 34  No_Exit                bool          \n",
      " 35  Railway                bool          \n",
      " 36  Roundabout             bool          \n",
      " 37  Station                bool          \n",
      " 38  Stop                   bool          \n",
      " 39  Traffic_Calming        bool          \n",
      " 40  Traffic_Signal         bool          \n",
      " 41  Turning_Loop           bool          \n",
      " 42  Sunrise_Sunset         object        \n",
      " 43  Civil_Twilight         object        \n",
      " 44  Nautical_Twilight      object        \n",
      " 45  Astronomical_Twilight  object        \n",
      "dtypes: bool(13), datetime64[ns](1), float64(12), int64(1), object(19)\n",
      "memory usage: 479.0+ MB\n",
      "None\n"
     ]
    }
   ],
   "source": [
    "# Создаём пустой список, чтобы хранить отфильтрованные части данных\n",
    "filtered_chunks = []\n",
    "\n",
    "# Проходёмся по каждой части данных, применим операции с датами и фильтрацию\n",
    "for chunk in chunks:\n",
    "    # Преобразуем столбец 'Start_Time' в тип datetime\n",
    "    chunk['Start_Time'] = pd.to_datetime(chunk['Start_Time'])\n",
    "    # Создаём условие фильтрации для получения строк за 2022 год\n",
    "    condition = (chunk['Start_Time'].dt.year == 2022)\n",
    "    # Применим условие фильтрации к текущей части данных\n",
    "    filtered_chunk = chunk[condition]\n",
    "    # Если есть хотя бы одна строка удовлетворяющая условию, добавим отфильтрованную часть данных в список\n",
    "    if not filtered_chunk.empty:\n",
    "        filtered_chunks.append(filtered_chunk)\n",
    "\n",
    "# Проверим, что хотя бы одна часть данных удовлетворяет условию фильтрации\n",
    "if len(filtered_chunks) > 0:\n",
    "    # Объединим отфильтрованные части данных в один DataFrame\n",
    "    df_2022 = pd.concat(filtered_chunks)\n",
    "    # Выведем информацию о DataFrame\n",
    "    print(df_2022.info())\n",
    "else:\n",
    "    print(\"Нет данных за 2022 год.\")\n"
   ]
  },
  {
   "cell_type": "code",
   "execution_count": 9,
   "id": "502e5aea",
   "metadata": {},
   "outputs": [],
   "source": [
    "# Создаём новый DataFrame, копируя данные из отфильтрованного DataFrame\n",
    "new_df = df_2022.copy()"
   ]
  },
  {
   "cell_type": "code",
   "execution_count": 10,
   "id": "bf6f100f",
   "metadata": {},
   "outputs": [
    {
     "name": "stdout",
     "output_type": "stream",
     "text": [
      "<class 'pandas.core.frame.DataFrame'>\n",
      "Int64Index: 1762452 entries, 512217 to 5423496\n",
      "Data columns (total 46 columns):\n",
      " #   Column                 Dtype         \n",
      "---  ------                 -----         \n",
      " 0   id                     object        \n",
      " 1   source                 object        \n",
      " 2   severity               int64         \n",
      " 3   start_time             datetime64[ns]\n",
      " 4   end_time               object        \n",
      " 5   start_lat              float64       \n",
      " 6   start_lng              float64       \n",
      " 7   end_lat                float64       \n",
      " 8   end_lng                float64       \n",
      " 9   distance(mi)           float64       \n",
      " 10  description            object        \n",
      " 11  street                 object        \n",
      " 12  city                   object        \n",
      " 13  county                 object        \n",
      " 14  state                  object        \n",
      " 15  zipcode                object        \n",
      " 16  country                object        \n",
      " 17  timezone               object        \n",
      " 18  airport_code           object        \n",
      " 19  weather_timestamp      object        \n",
      " 20  temperature(f)         float64       \n",
      " 21  wind_chill(f)          float64       \n",
      " 22  humidity(%)            float64       \n",
      " 23  pressure(in)           float64       \n",
      " 24  visibility(mi)         float64       \n",
      " 25  wind_direction         object        \n",
      " 26  wind_speed(mph)        float64       \n",
      " 27  precipitation(in)      float64       \n",
      " 28  weather_condition      object        \n",
      " 29  amenity                bool          \n",
      " 30  bump                   bool          \n",
      " 31  crossing               bool          \n",
      " 32  give_way               bool          \n",
      " 33  junction               bool          \n",
      " 34  no_exit                bool          \n",
      " 35  railway                bool          \n",
      " 36  roundabout             bool          \n",
      " 37  station                bool          \n",
      " 38  stop                   bool          \n",
      " 39  traffic_calming        bool          \n",
      " 40  traffic_signal         bool          \n",
      " 41  turning_loop           bool          \n",
      " 42  sunrise_sunset         object        \n",
      " 43  civil_twilight         object        \n",
      " 44  nautical_twilight      object        \n",
      " 45  astronomical_twilight  object        \n",
      "dtypes: bool(13), datetime64[ns](1), float64(12), int64(1), object(19)\n",
      "memory usage: 479.0+ MB\n"
     ]
    },
    {
     "data": {
      "text/plain": [
       "None"
      ]
     },
     "metadata": {},
     "output_type": "display_data"
    },
    {
     "name": "stdout",
     "output_type": "stream",
     "text": [
      "<class 'pandas.core.frame.DataFrame'>\n",
      "RangeIndex: 100 entries, 0 to 99\n",
      "Data columns (total 2 columns):\n",
      " #   Column      Non-Null Count  Dtype \n",
      "---  ------      --------------  ----- \n",
      " 0   name_city   100 non-null    object\n",
      " 1   population  100 non-null    object\n",
      "dtypes: object(2)\n",
      "memory usage: 1.7+ KB\n"
     ]
    },
    {
     "data": {
      "text/plain": [
       "None"
      ]
     },
     "metadata": {},
     "output_type": "display_data"
    }
   ],
   "source": [
    "# приведём названия столбцов к единому типу\n",
    "new_df.columns = [x.lower().replace(' ', '_') for x in new_df.columns]\n",
    "population.columns = [x.lower().replace(', ', '_') for x in population.columns]\n",
    "display(new_df.info())\n",
    "display(population.info())"
   ]
  },
  {
   "cell_type": "code",
   "execution_count": 11,
   "id": "15f3a29a",
   "metadata": {},
   "outputs": [
    {
     "data": {
      "text/plain": [
       "id                            0\n",
       "source                        0\n",
       "severity                      0\n",
       "start_time                    0\n",
       "end_time                      0\n",
       "start_lat                     0\n",
       "start_lng                     0\n",
       "end_lat                  236182\n",
       "end_lng                  236182\n",
       "distance(mi)                  0\n",
       "description                   0\n",
       "street                     7236\n",
       "city                         65\n",
       "county                        0\n",
       "state                         0\n",
       "zipcode                     307\n",
       "country                       0\n",
       "timezone                   1713\n",
       "airport_code               7199\n",
       "weather_timestamp         29595\n",
       "temperature(f)            38718\n",
       "wind_chill(f)             54508\n",
       "humidity(%)               41107\n",
       "pressure(in)              33134\n",
       "visibility(mi)            41953\n",
       "wind_direction            48385\n",
       "wind_speed(mph)           48377\n",
       "precipitation(in)         64475\n",
       "weather_condition         38688\n",
       "amenity                       0\n",
       "bump                          0\n",
       "crossing                      0\n",
       "give_way                      0\n",
       "junction                      0\n",
       "no_exit                       0\n",
       "railway                       0\n",
       "roundabout                    0\n",
       "station                       0\n",
       "stop                          0\n",
       "traffic_calming               0\n",
       "traffic_signal                0\n",
       "turning_loop                  0\n",
       "sunrise_sunset            14896\n",
       "civil_twilight            14896\n",
       "nautical_twilight         14896\n",
       "astronomical_twilight     14896\n",
       "dtype: int64"
      ]
     },
     "execution_count": 11,
     "metadata": {},
     "output_type": "execute_result"
    }
   ],
   "source": [
    "# посмотрим пропуски\n",
    "new_df.isna().sum()"
   ]
  },
  {
   "cell_type": "markdown",
   "id": "f8e757fe",
   "metadata": {},
   "source": [
    "id - идентификатор аварии\n",
    "\n",
    "source - источник, сообщивший об аварии\n",
    "\n",
    "severity - степень серьёзности (от 1 до 4)\n",
    "\n",
    "start_time - время начала аварии\n",
    "\n",
    "end_time - время конца аварии\n",
    "\n",
    "start_lat - начальная широта\n",
    "\n",
    "start_lng  - начальная долгота\n",
    "\n",
    "end_lat  - конечная широта\n",
    "\n",
    "end_lng  - конечная долгота\n",
    "\n",
    "distance(mi) - Протяженность дороги, затронутой аварией, в милях\n",
    "\n",
    "description - описание аварии\n",
    "\n",
    "street - улица\n",
    "\n",
    "city - город\n",
    "\n",
    "county - страна\n",
    "\n",
    "state - штат\n",
    "\n",
    "zipcode - индекс\n",
    "\n",
    "country  - страна\n",
    "\n",
    "timezone - часовой пояс\n",
    "\n",
    "airport_code - код аэропорта\n",
    "\n",
    "weather_timestamp - время наблюдения за погодой\n",
    "\n",
    "temperature(F) -  температура воздуха (в Фаренгейтах).\n",
    "\n",
    "wind_chill(F) - холод ветра (по Фаренгейту).\n",
    "\n",
    "humidity(%) -  влажность (в процентах).\n",
    "\n",
    "pressure(in) - давление воздуха (в дюймах).\n",
    "\n",
    "visibility(mi) -  видимость (в милях).\n",
    "\n",
    "wind_direction -  направление ветра.\n",
    "\n",
    "wind_speed(mph) - скорость ветра (в милях в час).\n",
    "\n",
    "precipitation(in) - количество осадков в дюймах, если они есть.\n",
    "\n",
    "weather_condition - погодные условия (дождь, снег, гроза, туман и т.д.).\n",
    "\n",
    "amenity - наличие удобств в близлежащем месте\n",
    "\n",
    "bump - наличие лежачего полицейского\n",
    "\n",
    "crossing - наличие перекрестка в близлежащем месте.\n",
    "\n",
    "give_way - наличие знака Уступи дорогу\n",
    "\n",
    "junction - наличие перекрестка в соседнем месте.\n",
    "\n",
    "no_exit\n",
    "\n",
    "railway - наличие поблизости железной дороги.\n",
    "\n",
    "roundabout - наличие кольцевой развязки поблизости.\n",
    "\n",
    "station - наличие станции поблизости\n",
    "\n",
    "stop - наличие остановки поблизости.\n",
    "\n",
    "traffic_calming\n",
    "\n",
    "traffic_signal - сигнал светофора\n",
    "\n",
    "turning_loop\n",
    "\n",
    "sunrise_sunset - период дня (т.е. день или ночь) в зависимости от восхода/захода солнца.\n",
    "\n",
    "civil_twilight - период дня (т.е. день или ночь) на основе гражданских сумерек.\n",
    "\n",
    "nautical_twilight - период дня (т.е. день или ночь) на основе морских сумерек.\n",
    "\n",
    "astronomical_twilight - период дня (т.е. день или ночь) на основе астрономических сумерек."
   ]
  },
  {
   "cell_type": "code",
   "execution_count": 12,
   "id": "7616426d",
   "metadata": {},
   "outputs": [],
   "source": [
    "#удалим из датасета столбцы, которые нам точно не нужны\n",
    "new_df = new_df.drop(['source', 'zipcode', 'no_exit', 'traffic_calming', 'turning_loop'], axis=1)"
   ]
  },
  {
   "cell_type": "markdown",
   "id": "eab5c8c7",
   "metadata": {},
   "source": [
    "## Исследовательский анализ"
   ]
  },
  {
   "cell_type": "markdown",
   "id": "2b684b42",
   "metadata": {},
   "source": [
    "### Анализ степени серьезности аварий"
   ]
  },
  {
   "cell_type": "code",
   "execution_count": 108,
   "id": "32a806b6",
   "metadata": {},
   "outputs": [
    {
     "name": "stdout",
     "output_type": "stream",
     "text": [
      "1762452\n"
     ]
    },
    {
     "data": {
      "image/png": "[encoded data removed]",
      "text/plain": [
       "<Figure size 864x576 with 1 Axes>"
      ]
     },
     "metadata": {
      "needs_background": "light"
     },
     "output_type": "display_data"
    }
   ],
   "source": [
    "#посчитаем количество аварий за 2022 год\n",
    "total = new_df['id'].count()\n",
    "print(total)\n",
    "# Определим наиболее часто встречающуюся степень серьезности аварий.\n",
    "severity_count = new_df.groupby('severity')['id'].count().sort_values(ascending=False)\n",
    "# Рассчитаем проценты от общего количества для каждого значения 'severity'\n",
    "severity_percentages = (severity_count / total) * 100\n",
    "ax = severity_percentages.plot(kind='bar', grid=True, figsize=(12,8))\n",
    "ax.set_xlabel('Степень серьёзности аварии')\n",
    "ax.set_ylabel('Относительные и абсолютные значения')\n",
    "ax.set_title('Соотношение количества аварий в разбивке по сепени серьёзности')\n",
    "\n",
    "\n",
    "# Добавим надписи с процентами и абсолютным количеством непосредственно на столбцах\n",
    "for i, v in enumerate(severity_percentages):\n",
    "    count = severity_count.iloc[i]\n",
    "    ax.text(i, v + 1, f'{v:.2f}% ({count})', ha='center', va='bottom', fontweight='bold')\n",
    "\n",
    "plt.show()"
   ]
  },
  {
   "cell_type": "markdown",
   "id": "f1670b16",
   "metadata": {},
   "source": [
    "90% аварий - 2 степени серьёзности.  Указывает на умеренное влияние на движение, что может вызывать более длительные задержки и некоторые нарушения движения."
   ]
  },
  {
   "cell_type": "code",
   "execution_count": 28,
   "id": "806abd5f",
   "metadata": {},
   "outputs": [
    {
     "name": "stdout",
     "output_type": "stream",
     "text": [
      "['Fair' 'Mostly Cloudy' 'Partly Cloudy' 'Cloudy' nan 'Fog' 'Haze'\n",
      " 'Light Rain' 'Thunder in the Vicinity' 'Rain' 'Heavy Rain'\n",
      " 'Heavy Rain / Windy' 'Fair / Windy' 'Light Rain with Thunder' 'Smoke'\n",
      " 'Thunder' 'Shallow Fog' 'Patches of Fog' 'Light Drizzle'\n",
      " 'Showers in the Vicinity' 'T-Storm' 'Thunder / Windy'\n",
      " 'Heavy T-Storm / Windy' 'Heavy T-Storm' 'Drizzle' 'Light Rain / Windy'\n",
      " 'Mist' 'Mostly Cloudy / Windy' 'N/A Precipitation' 'Light Rain Shower'\n",
      " 'Partly Cloudy / Windy' 'Cloudy / Windy' 'Drizzle and Fog'\n",
      " 'T-Storm / Windy' 'Rain / Windy' 'Blowing Dust' 'Heavy Drizzle'\n",
      " 'Smoke / Windy' 'Haze / Windy' 'Tornado' 'Light Snow' 'Snow'\n",
      " 'Light Drizzle / Windy' 'Blowing Dust / Windy' 'Widespread Dust / Windy'\n",
      " 'Wintry Mix' 'Light Snow / Windy' 'Wintry Mix / Windy'\n",
      " 'Light Snow with Thunder' 'Fog / Windy' 'Snow and Thunder' 'Heavy Snow'\n",
      " 'Light Snow Shower' 'Sleet' 'Light Snow and Sleet' 'Snow / Windy'\n",
      " 'Rain Shower' 'Light Freezing Rain' 'Snow and Sleet' 'Light Sleet'\n",
      " 'Light Freezing Drizzle' 'Heavy Snow / Windy' 'Freezing Drizzle'\n",
      " 'Light Freezing Rain / Windy' 'Thunder / Wintry Mix'\n",
      " 'Blowing Snow / Windy' 'Freezing Rain' 'Light Snow and Sleet / Windy'\n",
      " 'Snow and Sleet / Windy' 'Sleet / Windy' 'Heavy Freezing Rain / Windy'\n",
      " 'Heavy Freezing Rain' 'Blowing Snow' 'Widespread Dust' 'Hail'\n",
      " 'Sleet and Thunder' 'Squalls' 'Heavy Freezing Drizzle' 'Small Hail'\n",
      " 'Freezing Rain / Windy' 'Heavy Sleet and Thunder' 'Drifting Snow / Windy'\n",
      " 'Light Sleet / Windy' 'Sand / Dust Whirls Nearby' 'Thunder and Hail'\n",
      " 'Funnel Cloud' 'Shallow Fog / Windy' 'Squalls / Windy' 'Drizzle / Windy'\n",
      " 'Heavy Sleet' 'Thunder and Hail / Windy' 'Light Snow Shower / Windy'\n",
      " 'Sand / Dust Whirlwinds' 'Heavy Snow with Thunder']\n"
     ]
    }
   ],
   "source": [
    "print(new_df['weather_condition'].unique())"
   ]
  },
  {
   "cell_type": "markdown",
   "id": "05b1efc2",
   "metadata": {},
   "source": [
    "Слишком много значений, выберем наиболее опасные погодные условия: \n",
    "\n",
    "Tornado(Торнадо),\n",
    "\n",
    "2.Squalls (шквалы) и Windy (сильный ветер)\n",
    "\n",
    "Hail (град) и Small Hail (маленький град), \n",
    "\n",
    "все виды гололёда - Freezing Rain, Light Freezing Rain, Heavy Freezing Rain, \n",
    "\n",
    "ледяной дождь - Freezing Drizzle, Light Freezing Drizzle, Heavy Freezing Drizzle, Freezing Rain'\n",
    "\n",
    "Гроза 'Thunder', 'Thunder in the Vicinity') и сильная гроза ('Heavy T-Storm', 'Heavy T-Storm / Windy')\n",
    "\n",
    "Сильный дождь 'Heavy Rain', 'Heavy Rain / Windy') и проливные дожди ('Showers in the Vicinity'\n",
    " \n",
    "Снег и мокрый снег ('Snow', 'Snow / Windy', 'Light Snow', 'Light Snow / Windy', 'Light Snow Shower', 'Light Snow Shower / Windy', 'Light Snow with Thunder', 'Heavy Snow', 'Heavy Snow / Windy', 'Heavy Snow with Thunder', 'Sleet', 'Light Snow and Sleet', 'Snow and Sleet', 'Sleet and Thunder'\n",
    "\n",
    "Туман 'Fog', 'Fog / Windy', 'Shallow Fog', 'Shallow Fog / Windy'\n",
    "\n",
    "Мгла 'Haze', 'Haze / Windy'\n",
    "\n",
    "Дым 'Smoke', 'Smoke / Windy'"
   ]
  },
  {
   "cell_type": "code",
   "execution_count": 29,
   "id": "32b497cd",
   "metadata": {},
   "outputs": [
    {
     "name": "stderr",
     "output_type": "stream",
     "text": [
      "C:\\Users\\Redmi\\AppData\\Local\\Temp\\ipykernel_17504\\750206426.py:16: FutureWarning: iteritems is deprecated and will be removed in a future version. Use .items instead.\n",
      "  for index, condition in new_df['weather_condition'].iteritems():\n"
     ]
    }
   ],
   "source": [
    "#разобьём погодные условия на опасные и неопасные\n",
    "# Список опасных погодных условий\n",
    "dangerous_conditions = ['Tornado', 'Squalls', 'Windy', 'Hail', 'Small Hail', 'Freezing Rain', 'Light Freezing Rain',\n",
    "                        'Heavy Freezing Rain', 'Freezing Drizzle', 'Light Freezing Drizzle', 'Heavy Freezing Drizzle',\n",
    "                        'Thunder', 'Thunder in the Vicinity', 'Heavy T-Storm', 'Heavy T-Storm / Windy', 'Heavy Rain',\n",
    "                        'Heavy Rain / Windy', 'Showers in the Vicinity', 'Snow', 'Snow / Windy', 'Light Snow',\n",
    "                        'Light Snow / Windy', 'Light Snow Shower', 'Light Snow Shower / Windy', 'Light Snow with Thunder',\n",
    "                        'Heavy Snow', 'Heavy Snow / Windy', 'Heavy Snow with Thunder', 'Sleet', 'Light Snow and Sleet',\n",
    "                        'Snow and Sleet', 'Sleet and Thunder', 'Fog', 'Fog / Windy', 'Shallow Fog', 'Shallow Fog / Windy',\n",
    "                        'Haze', 'Haze / Windy', 'Smoke', 'Smoke / Windy']\n",
    "\n",
    "# Создание нового столбца 'dangerous weather conditions'\n",
    "new_df['dangerous_weather_conditions'] = False  # Инициализируем все значения как False\n",
    "\n",
    "# Проходим по столбцу weather_condition и устанавливаем True для опасных погодных условий\n",
    "for index, condition in new_df['weather_condition'].iteritems():\n",
    "    if condition in dangerous_conditions:\n",
    "        new_df.at[index, 'dangerous_weather_conditions'] = True\n"
   ]
  },
  {
   "cell_type": "code",
   "execution_count": 30,
   "id": "44ba89b1",
   "metadata": {},
   "outputs": [
    {
     "data": {
      "text/plain": [
       "severity\n",
       "1     1122\n",
       "4     2709\n",
       "3     4358\n",
       "2    98894\n",
       "Name: id, dtype: int64"
      ]
     },
     "execution_count": 30,
     "metadata": {},
     "output_type": "execute_result"
    }
   ],
   "source": [
    "# изучим зависимоть между опасными погодными условиями и серьёзностью аварий\n",
    "new_df.query('dangerous_weather_conditions ==True').groupby('severity')['id'].count().sort_values()"
   ]
  },
  {
   "cell_type": "code",
   "execution_count": 31,
   "id": "c6ecf6b8",
   "metadata": {},
   "outputs": [
    {
     "data": {
      "text/plain": [
       "0.005723664218864561"
      ]
     },
     "execution_count": 31,
     "metadata": {},
     "output_type": "execute_result"
    }
   ],
   "source": [
    "new_df['severity'].corr(new_df['dangerous_weather_conditions'])"
   ]
  },
  {
   "cell_type": "markdown",
   "id": "1bd6c662",
   "metadata": {},
   "source": [
    "Корреляция между плохой погодой и серьёзностью аварии слабая."
   ]
  },
  {
   "cell_type": "code",
   "execution_count": 32,
   "id": "99a7b798",
   "metadata": {},
   "outputs": [
    {
     "data": {
      "text/plain": [
       "<AxesSubplot:xlabel='severity,sunrise_sunset'>"
      ]
     },
     "execution_count": 32,
     "metadata": {},
     "output_type": "execute_result"
    },
    {
     "data": {
      "image/png": "[encoded data removed]",
      "text/plain": [
       "<Figure size 432x288 with 1 Axes>"
      ]
     },
     "metadata": {
      "needs_background": "light"
     },
     "output_type": "display_data"
    }
   ],
   "source": [
    "#Проанализировать зависимость между степенью серьезности и временем суток\n",
    "new_df.groupby('severity')['sunrise_sunset'].value_counts().plot(kind='bar')"
   ]
  },
  {
   "cell_type": "markdown",
   "id": "e38ded49",
   "metadata": {},
   "source": [
    "### Какие погодные условия чаще всего сопровождают аварии"
   ]
  },
  {
   "cell_type": "code",
   "execution_count": 33,
   "id": "d5960ef0",
   "metadata": {},
   "outputs": [
    {
     "name": "stdout",
     "output_type": "stream",
     "text": [
      "107083\n",
      "6\n"
     ]
    }
   ],
   "source": [
    "#посмотрим, сколько всего аварий было при опасных погодных условиях\n",
    "print(new_df.query('dangerous_weather_conditions ==True')['id'].count())\n",
    "#посмотрим % от общего числа аварий\n",
    "print(round(new_df.query('dangerous_weather_conditions ==True')['id'].count()/new_df['id'].count()*100))\n"
   ]
  },
  {
   "cell_type": "markdown",
   "id": "1842923b",
   "metadata": {},
   "source": [
    "Всего 6% аварий произошло в опасных погодных условиях. Это достаточно маленький процент."
   ]
  },
  {
   "cell_type": "code",
   "execution_count": 60,
   "id": "16a8a0bc",
   "metadata": {},
   "outputs": [],
   "source": [
    "#Исследовать связь между температурой воздуха и количеством аварий"
   ]
  },
  {
   "cell_type": "markdown",
   "id": "ae9a1d4f",
   "metadata": {},
   "source": [
    "### Географические особенности"
   ]
  },
  {
   "cell_type": "code",
   "execution_count": 109,
   "id": "a04acca8",
   "metadata": {},
   "outputs": [
    {
     "ename": "AttributeError",
     "evalue": "Can only use .str accessor with string values!",
     "output_type": "error",
     "traceback": [
      "\u001b[1;31m---------------------------------------------------------------------------\u001b[0m",
      "\u001b[1;31mAttributeError\u001b[0m                            Traceback (most recent call last)",
      "\u001b[1;32md:\\проекты порт\\my_projects\\analysis-of-accident-data\\анализ данных об авариях в США.ipynb Cell 33\u001b[0m in \u001b[0;36m<cell line: 2>\u001b[1;34m()\u001b[0m\n\u001b[0;32m      <a href='vscode-notebook-cell:/d%3A/%D0%BF%D1%80%D0%BE%D0%B5%D0%BA%D1%82%D1%8B%20%D0%BF%D0%BE%D1%80%D1%82/my_projects/analysis-of-accident-data/%D0%B0%D0%BD%D0%B0%D0%BB%D0%B8%D0%B7%20%D0%B4%D0%B0%D0%BD%D0%BD%D1%8B%D1%85%20%D0%BE%D0%B1%20%D0%B0%D0%B2%D0%B0%D1%80%D0%B8%D1%8F%D1%85%20%D0%B2%20%D0%A1%D0%A8%D0%90.ipynb#Y112sZmlsZQ%3D%3D?line=0'>1</a>\u001b[0m \u001b[39m# Убираем запятые и неразрывные пробелы из значений столбца 'population'\u001b[39;00m\n\u001b[1;32m----> <a href='vscode-notebook-cell:/d%3A/%D0%BF%D1%80%D0%BE%D0%B5%D0%BA%D1%82%D1%8B%20%D0%BF%D0%BE%D1%80%D1%82/my_projects/analysis-of-accident-data/%D0%B0%D0%BD%D0%B0%D0%BB%D0%B8%D0%B7%20%D0%B4%D0%B0%D0%BD%D0%BD%D1%8B%D1%85%20%D0%BE%D0%B1%20%D0%B0%D0%B2%D0%B0%D1%80%D0%B8%D1%8F%D1%85%20%D0%B2%20%D0%A1%D0%A8%D0%90.ipynb#Y112sZmlsZQ%3D%3D?line=1'>2</a>\u001b[0m population[\u001b[39m'\u001b[39m\u001b[39mpopulation\u001b[39m\u001b[39m'\u001b[39m] \u001b[39m=\u001b[39m population[\u001b[39m'\u001b[39;49m\u001b[39mpopulation\u001b[39;49m\u001b[39m'\u001b[39;49m]\u001b[39m.\u001b[39;49mstr\u001b[39m.\u001b[39mreplace(\u001b[39m'\u001b[39m\u001b[39m,\u001b[39m\u001b[39m'\u001b[39m, \u001b[39m'\u001b[39m\u001b[39m'\u001b[39m)\u001b[39m.\u001b[39mstr\u001b[39m.\u001b[39mreplace(\u001b[39m'\u001b[39m\u001b[39m\\xa0\u001b[39;00m\u001b[39m'\u001b[39m, \u001b[39m'\u001b[39m\u001b[39m'\u001b[39m)\u001b[39m.\u001b[39mastype(\u001b[39mint\u001b[39m)\n\u001b[0;32m      <a href='vscode-notebook-cell:/d%3A/%D0%BF%D1%80%D0%BE%D0%B5%D0%BA%D1%82%D1%8B%20%D0%BF%D0%BE%D1%80%D1%82/my_projects/analysis-of-accident-data/%D0%B0%D0%BD%D0%B0%D0%BB%D0%B8%D0%B7%20%D0%B4%D0%B0%D0%BD%D0%BD%D1%8B%D1%85%20%D0%BE%D0%B1%20%D0%B0%D0%B2%D0%B0%D1%80%D0%B8%D1%8F%D1%85%20%D0%B2%20%D0%A1%D0%A8%D0%90.ipynb#Y112sZmlsZQ%3D%3D?line=2'>3</a>\u001b[0m population\u001b[39m.\u001b[39minfo()\n",
      "File \u001b[1;32mc:\\Users\\Redmi\\anaconda3\\envs\\da_practicum_env\\lib\\site-packages\\pandas\\core\\generic.py:5902\u001b[0m, in \u001b[0;36mNDFrame.__getattr__\u001b[1;34m(self, name)\u001b[0m\n\u001b[0;32m   5895\u001b[0m \u001b[39mif\u001b[39;00m (\n\u001b[0;32m   5896\u001b[0m     name \u001b[39mnot\u001b[39;00m \u001b[39min\u001b[39;00m \u001b[39mself\u001b[39m\u001b[39m.\u001b[39m_internal_names_set\n\u001b[0;32m   5897\u001b[0m     \u001b[39mand\u001b[39;00m name \u001b[39mnot\u001b[39;00m \u001b[39min\u001b[39;00m \u001b[39mself\u001b[39m\u001b[39m.\u001b[39m_metadata\n\u001b[0;32m   5898\u001b[0m     \u001b[39mand\u001b[39;00m name \u001b[39mnot\u001b[39;00m \u001b[39min\u001b[39;00m \u001b[39mself\u001b[39m\u001b[39m.\u001b[39m_accessors\n\u001b[0;32m   5899\u001b[0m     \u001b[39mand\u001b[39;00m \u001b[39mself\u001b[39m\u001b[39m.\u001b[39m_info_axis\u001b[39m.\u001b[39m_can_hold_identifiers_and_holds_name(name)\n\u001b[0;32m   5900\u001b[0m ):\n\u001b[0;32m   5901\u001b[0m     \u001b[39mreturn\u001b[39;00m \u001b[39mself\u001b[39m[name]\n\u001b[1;32m-> 5902\u001b[0m \u001b[39mreturn\u001b[39;00m \u001b[39mobject\u001b[39;49m\u001b[39m.\u001b[39;49m\u001b[39m__getattribute__\u001b[39;49m(\u001b[39mself\u001b[39;49m, name)\n",
      "File \u001b[1;32mc:\\Users\\Redmi\\anaconda3\\envs\\da_practicum_env\\lib\\site-packages\\pandas\\core\\accessor.py:182\u001b[0m, in \u001b[0;36mCachedAccessor.__get__\u001b[1;34m(self, obj, cls)\u001b[0m\n\u001b[0;32m    179\u001b[0m \u001b[39mif\u001b[39;00m obj \u001b[39mis\u001b[39;00m \u001b[39mNone\u001b[39;00m:\n\u001b[0;32m    180\u001b[0m     \u001b[39m# we're accessing the attribute of the class, i.e., Dataset.geo\u001b[39;00m\n\u001b[0;32m    181\u001b[0m     \u001b[39mreturn\u001b[39;00m \u001b[39mself\u001b[39m\u001b[39m.\u001b[39m_accessor\n\u001b[1;32m--> 182\u001b[0m accessor_obj \u001b[39m=\u001b[39m \u001b[39mself\u001b[39;49m\u001b[39m.\u001b[39;49m_accessor(obj)\n\u001b[0;32m    183\u001b[0m \u001b[39m# Replace the property with the accessor object. Inspired by:\u001b[39;00m\n\u001b[0;32m    184\u001b[0m \u001b[39m# https://www.pydanny.com/cached-property.html\u001b[39;00m\n\u001b[0;32m    185\u001b[0m \u001b[39m# We need to use object.__setattr__ because we overwrite __setattr__ on\u001b[39;00m\n\u001b[0;32m    186\u001b[0m \u001b[39m# NDFrame\u001b[39;00m\n\u001b[0;32m    187\u001b[0m \u001b[39mobject\u001b[39m\u001b[39m.\u001b[39m\u001b[39m__setattr__\u001b[39m(obj, \u001b[39mself\u001b[39m\u001b[39m.\u001b[39m_name, accessor_obj)\n",
      "File \u001b[1;32mc:\\Users\\Redmi\\anaconda3\\envs\\da_practicum_env\\lib\\site-packages\\pandas\\core\\strings\\accessor.py:181\u001b[0m, in \u001b[0;36mStringMethods.__init__\u001b[1;34m(self, data)\u001b[0m\n\u001b[0;32m    178\u001b[0m \u001b[39mdef\u001b[39;00m \u001b[39m__init__\u001b[39m(\u001b[39mself\u001b[39m, data) \u001b[39m-\u001b[39m\u001b[39m>\u001b[39m \u001b[39mNone\u001b[39;00m:\n\u001b[0;32m    179\u001b[0m     \u001b[39mfrom\u001b[39;00m \u001b[39mpandas\u001b[39;00m\u001b[39m.\u001b[39;00m\u001b[39mcore\u001b[39;00m\u001b[39m.\u001b[39;00m\u001b[39marrays\u001b[39;00m\u001b[39m.\u001b[39;00m\u001b[39mstring_\u001b[39;00m \u001b[39mimport\u001b[39;00m StringDtype\n\u001b[1;32m--> 181\u001b[0m     \u001b[39mself\u001b[39m\u001b[39m.\u001b[39m_inferred_dtype \u001b[39m=\u001b[39m \u001b[39mself\u001b[39;49m\u001b[39m.\u001b[39;49m_validate(data)\n\u001b[0;32m    182\u001b[0m     \u001b[39mself\u001b[39m\u001b[39m.\u001b[39m_is_categorical \u001b[39m=\u001b[39m is_categorical_dtype(data\u001b[39m.\u001b[39mdtype)\n\u001b[0;32m    183\u001b[0m     \u001b[39mself\u001b[39m\u001b[39m.\u001b[39m_is_string \u001b[39m=\u001b[39m \u001b[39misinstance\u001b[39m(data\u001b[39m.\u001b[39mdtype, StringDtype)\n",
      "File \u001b[1;32mc:\\Users\\Redmi\\anaconda3\\envs\\da_practicum_env\\lib\\site-packages\\pandas\\core\\strings\\accessor.py:235\u001b[0m, in \u001b[0;36mStringMethods._validate\u001b[1;34m(data)\u001b[0m\n\u001b[0;32m    232\u001b[0m inferred_dtype \u001b[39m=\u001b[39m lib\u001b[39m.\u001b[39minfer_dtype(values, skipna\u001b[39m=\u001b[39m\u001b[39mTrue\u001b[39;00m)\n\u001b[0;32m    234\u001b[0m \u001b[39mif\u001b[39;00m inferred_dtype \u001b[39mnot\u001b[39;00m \u001b[39min\u001b[39;00m allowed_types:\n\u001b[1;32m--> 235\u001b[0m     \u001b[39mraise\u001b[39;00m \u001b[39mAttributeError\u001b[39;00m(\u001b[39m\"\u001b[39m\u001b[39mCan only use .str accessor with string values!\u001b[39m\u001b[39m\"\u001b[39m)\n\u001b[0;32m    236\u001b[0m \u001b[39mreturn\u001b[39;00m inferred_dtype\n",
      "\u001b[1;31mAttributeError\u001b[0m: Can only use .str accessor with string values!"
     ]
    }
   ],
   "source": [
    "# Убираем запятые и неразрывные пробелы из значений столбца 'population'\n",
    "population['population'] = population['population'].str.replace(',', '').str.replace('\\xa0', '').astype(int)\n",
    "population.info()"
   ]
  },
  {
   "cell_type": "code",
   "execution_count": 36,
   "id": "23ce1d6d",
   "metadata": {
    "scrolled": true
   },
   "outputs": [
    {
     "data": {
      "text/plain": [
       "<AxesSubplot:xlabel='state'>"
      ]
     },
     "execution_count": 36,
     "metadata": {},
     "output_type": "execute_result"
    },
    {
     "data": {
      "image/png": "[encoded data removed]",
      "text/plain": [
       "<Figure size 864x576 with 1 Axes>"
      ]
     },
     "metadata": {
      "needs_background": "light"
     },
     "output_type": "display_data"
    }
   ],
   "source": [
    "#количество аварий по штатам\n",
    "new_df.groupby('state')['id'].count().sort_values(ascending=False).plot(kind='bar', figsize=(12,8))"
   ]
  },
  {
   "cell_type": "markdown",
   "id": "df97d86d",
   "metadata": {},
   "source": [
    "Общая численность в каждом штате:\n",
    "    \n",
    "    соотнести кол-во жителей и количество аварий. (Какой процент в каждои штате?)"
   ]
  },
  {
   "cell_type": "code",
   "execution_count": 96,
   "id": "48c3efa2",
   "metadata": {},
   "outputs": [
    {
     "data": {
      "image/png": "[encoded data removed]",
      "text/plain": [
       "<Figure size 1080x576 with 1 Axes>"
      ]
     },
     "metadata": {
      "needs_background": "light"
     },
     "output_type": "display_data"
    }
   ],
   "source": [
    "# Сумма населения всех городов\n",
    "total_population = population['population'].sum()\n",
    "\n",
    "# Сортируем данные по населению в порядке убывания и берем только топ-15 городов\n",
    "top_15_cities = population.sort_values(by='population', ascending=False).head(15)\n",
    "\n",
    "# Рассчитываем процент от общего населения для каждого города\n",
    "top_15_cities['percentage'] = (top_15_cities['population'] / total_population) * 100\n",
    "\n",
    "# Построение графика\n",
    "ax = top_15_cities.plot(x='name_city', y='population', kind='bar', figsize=(15, 8))\n",
    "ax.set_xlabel('Город')\n",
    "ax.set_ylabel('Население')\n",
    "ax.set_title('Топ 15 городов по населению в США')\n",
    "\n",
    "# Добавление надписей с процентами и абсолютным количеством непосредственно на столбцах\n",
    "for i, v in enumerate(top_15_cities['population']):\n",
    "    percentage = top_15_cities.loc[top_15_cities.index[i], 'percentage']\n",
    "    ax.text(i, v + 10000, f'{percentage:.2f}% ({v})', ha='center', va='bottom', fontweight='bold')\n",
    "\n",
    "plt.show()\n"
   ]
  },
  {
   "cell_type": "code",
   "execution_count": 82,
   "id": "0b90962b",
   "metadata": {},
   "outputs": [
    {
     "data": {
      "text/plain": [
       "7849"
      ]
     },
     "execution_count": 82,
     "metadata": {},
     "output_type": "execute_result"
    }
   ],
   "source": [
    "#посмотрим количество аварий в самом густонаселённом городе США - Нью-Йорке\n",
    "new_df.query('city == \"New York\"')['id'].count()"
   ]
  },
  {
   "cell_type": "markdown",
   "id": "4fc428f2",
   "metadata": {},
   "source": [
    "Для населения около 8,5 млн 7849 аварий за год - это очень маленькое количество. "
   ]
  },
  {
   "cell_type": "code",
   "execution_count": 85,
   "id": "92a6196a",
   "metadata": {
    "scrolled": false
   },
   "outputs": [
    {
     "data": {
      "text/plain": [
       "<AxesSubplot:xlabel='city'>"
      ]
     },
     "execution_count": 85,
     "metadata": {},
     "output_type": "execute_result"
    },
    {
     "data": {
      "image/png": "[encoded data removed]",
      "text/plain": [
       "<Figure size 1080x576 with 1 Axes>"
      ]
     },
     "metadata": {
      "needs_background": "light"
     },
     "output_type": "display_data"
    }
   ],
   "source": [
    "# посмотрим, в каких городах больше всего аварий\n",
    "new_df.groupby('city')['id'].count().sort_values(ascending=False).head(50).plot(kind='bar', figsize = (15,8))"
   ]
  },
  {
   "cell_type": "code",
   "execution_count": null,
   "id": "e6337186",
   "metadata": {},
   "outputs": [
    {
     "data": {
      "text/plain": [
       "city\n",
       "Miami          64544\n",
       "Orlando        36413\n",
       "Los Angeles    31072\n",
       "Houston        25865\n",
       "Dallas         24306\n",
       "Charlotte      23308\n",
       "Raleigh        16410\n",
       "Nashville      14368\n",
       "Baton Rouge    13683\n",
       "Sacramento     13543\n",
       "San Diego      13324\n",
       "Richmond       12514\n",
       "Atlanta        11234\n",
       "Austin         10906\n",
       "New Orleans    10704\n",
       "Name: id, dtype: int64"
      ]
     },
     "execution_count": 62,
     "metadata": {},
     "output_type": "execute_result"
    }
   ],
   "source": [
    "new_df.groupby('city')['id'].count().sort_values(ascending=False).head(15)"
   ]
  },
  {
   "cell_type": "markdown",
   "id": "afd2cd44",
   "metadata": {},
   "source": [
    "В городах Майами и Орландо было больше всего аварий (64544 и 36413) при плотности населения: Майами - 435 919 чел., Орландо -287 442 чел. При этом в городах миллионниках аварий было меньше, чем Майами и Орландо, например:\n",
    "\n",
    "1. Лос-Анджелись - население 3 898 747\n",
    "2. Хьюстон 2 320 268\n",
    "3. Dallas "
   ]
  },
  {
   "cell_type": "code",
   "execution_count": null,
   "id": "1a82f5c1",
   "metadata": {},
   "outputs": [],
   "source": [
    "# Удалить столбцы 'Column1' и 'Column2' из DataFrame df, чтоб создать датафрейм с погодой\n",
    "weather = new_df.drop(['source', 'start_Time', 'end_time', 'Start_Lat', 'End_Lat', 'End_Lng', 'Distance(mi)', 'Description', 'Zipcode', 'Timezone', 'Airport_Code', 'Amenity', 'Bump', 'Crossing', 'Give_Way', 'Junction', 'No_Exit', 'Railway', 'Roundabout', 'Station', 'Stop', 'Traffic_Calming', 'Traffic_Signal', 'Turning_Loop', 'Sunrise_Sunset', 'Civil_Twilight', 'Nautical_Twilight', 'Astronomical_Twilight'], axis=1)"
   ]
  },
  {
   "cell_type": "code",
   "execution_count": 27,
   "id": "e366cd0c",
   "metadata": {
    "scrolled": true
   },
   "outputs": [
    {
     "name": "stdout",
     "output_type": "stream",
     "text": [
      "Количество аварий ночью: 492367\n"
     ]
    }
   ],
   "source": [
    "print(\"Количество аварий ночью:\", new_df.query('sunrise_sunset == \"Night\"')['id'].count())"
   ]
  },
  {
   "cell_type": "code",
   "execution_count": 29,
   "id": "a43b1df5",
   "metadata": {},
   "outputs": [
    {
     "name": "stdout",
     "output_type": "stream",
     "text": [
      "количество аварий днём 1255189\n"
     ]
    }
   ],
   "source": [
    "print(\"количество аварий днём\", new_df.query('sunrise_sunset == \"Day\"')['id'].count())"
   ]
  },
  {
   "cell_type": "markdown",
   "id": "7c43a7ca",
   "metadata": {},
   "source": [
    "Днём количество аварий больше в 2,5 раза, это связано с интенсивностью движения."
   ]
  },
  {
   "cell_type": "code",
   "execution_count": null,
   "id": "fd9812ea",
   "metadata": {},
   "outputs": [],
   "source": [
    "weather"
   ]
  },
  {
   "cell_type": "code",
   "execution_count": null,
   "id": "6ccff36d",
   "metadata": {
    "scrolled": true
   },
   "outputs": [],
   "source": [
    "weather.corr()"
   ]
  },
  {
   "cell_type": "code",
   "execution_count": 31,
   "id": "9096b96c",
   "metadata": {},
   "outputs": [
    {
     "ename": "NameError",
     "evalue": "name 'weather' is not defined",
     "output_type": "error",
     "traceback": [
      "\u001b[1;31m---------------------------------------------------------------------------\u001b[0m",
      "\u001b[1;31mNameError\u001b[0m                                 Traceback (most recent call last)",
      "\u001b[1;32mc:\\Users\\Redmi\\my_projects\\analysis-of-accident-data\\анализ данных об авариях в США.ipynb Cell 29\u001b[0m in \u001b[0;36m<cell line: 2>\u001b[1;34m()\u001b[0m\n\u001b[0;32m      <a href='vscode-notebook-cell:/c%3A/Users/Redmi/my_projects/analysis-of-accident-data/%D0%B0%D0%BD%D0%B0%D0%BB%D0%B8%D0%B7%20%D0%B4%D0%B0%D0%BD%D0%BD%D1%8B%D1%85%20%D0%BE%D0%B1%20%D0%B0%D0%B2%D0%B0%D1%80%D0%B8%D1%8F%D1%85%20%D0%B2%20%D0%A1%D0%A8%D0%90.ipynb#X41sZmlsZQ%3D%3D?line=0'>1</a>\u001b[0m \u001b[39m# построить тепловую карту для всех числовых столбцов:\u001b[39;00m\n\u001b[1;32m----> <a href='vscode-notebook-cell:/c%3A/Users/Redmi/my_projects/analysis-of-accident-data/%D0%B0%D0%BD%D0%B0%D0%BB%D0%B8%D0%B7%20%D0%B4%D0%B0%D0%BD%D0%BD%D1%8B%D1%85%20%D0%BE%D0%B1%20%D0%B0%D0%B2%D0%B0%D1%80%D0%B8%D1%8F%D1%85%20%D0%B2%20%D0%A1%D0%A8%D0%90.ipynb#X41sZmlsZQ%3D%3D?line=1'>2</a>\u001b[0m correlation_matrix \u001b[39m=\u001b[39m weather\u001b[39m.\u001b[39mcorr()\n\u001b[0;32m      <a href='vscode-notebook-cell:/c%3A/Users/Redmi/my_projects/analysis-of-accident-data/%D0%B0%D0%BD%D0%B0%D0%BB%D0%B8%D0%B7%20%D0%B4%D0%B0%D0%BD%D0%BD%D1%8B%D1%85%20%D0%BE%D0%B1%20%D0%B0%D0%B2%D0%B0%D1%80%D0%B8%D1%8F%D1%85%20%D0%B2%20%D0%A1%D0%A8%D0%90.ipynb#X41sZmlsZQ%3D%3D?line=3'>4</a>\u001b[0m \u001b[39m# Используем библиотеку Seaborn для построения тепловой карты\u001b[39;00m\n\u001b[0;32m      <a href='vscode-notebook-cell:/c%3A/Users/Redmi/my_projects/analysis-of-accident-data/%D0%B0%D0%BD%D0%B0%D0%BB%D0%B8%D0%B7%20%D0%B4%D0%B0%D0%BD%D0%BD%D1%8B%D1%85%20%D0%BE%D0%B1%20%D0%B0%D0%B2%D0%B0%D1%80%D0%B8%D1%8F%D1%85%20%D0%B2%20%D0%A1%D0%A8%D0%90.ipynb#X41sZmlsZQ%3D%3D?line=4'>5</a>\u001b[0m plt\u001b[39m.\u001b[39mfigure(figsize\u001b[39m=\u001b[39m(\u001b[39m10\u001b[39m, \u001b[39m8\u001b[39m))\n",
      "\u001b[1;31mNameError\u001b[0m: name 'weather' is not defined"
     ]
    }
   ],
   "source": [
    "\n",
    "# построить тепловую карту для всех числовых столбцов:\n",
    "correlation_matrix = weather.corr()\n",
    "\n",
    "# Используем библиотеку Seaborn для построения тепловой карты\n",
    "plt.figure(figsize=(10, 8))\n",
    "sns.heatmap(correlation_matrix, annot=True, cmap=\"coolwarm\", fmt=\".2f\")\n",
    "plt.title(\"Тепловая карта корреляции\")\n",
    "plt.show()\n"
   ]
  },
  {
   "cell_type": "code",
   "execution_count": null,
   "id": "8b1f7f6a",
   "metadata": {},
   "outputs": [],
   "source": [
    "twilight = new_df.drop(['Weather_Timestamp', 'Temperature(F)', 'Wind_Chill(F)', 'Humidity(%)', 'Pressure(in)', 'Visibility(mi)', 'Wind_Direction', 'Wind_Speed(mph)', 'Precipitation(in)', 'Weather_Condition','Zipcode', 'Timezone', 'Airport_Code', 'Amenity', 'Bump', 'Crossing', 'Give_Way', 'Junction', 'No_Exit', 'Railway', 'Roundabout', 'Station', 'Stop', 'Traffic_Calming', 'Traffic_Signal', 'Turning_Loop'], axis=1)"
   ]
  },
  {
   "cell_type": "code",
   "execution_count": null,
   "id": "0e759262",
   "metadata": {},
   "outputs": [],
   "source": [
    "twilight.corr()"
   ]
  },
  {
   "cell_type": "code",
   "execution_count": null,
   "id": "9cb6e033",
   "metadata": {},
   "outputs": [],
   "source": [
    "correlation_2 = twilight.corr()\n",
    "# Используем библиотеку Seaborn для построения тепловой карты\n",
    "plt.figure(figsize=(10, 8))\n",
    "sns.heatmap(correlation_2, annot=True, cmap=\"coolwarm\", fmt=\".2f\")\n",
    "plt.title(\"Тепловая карта корреляции\")\n",
    "plt.show()"
   ]
  },
  {
   "cell_type": "code",
   "execution_count": null,
   "id": "5d1ce924",
   "metadata": {},
   "outputs": [],
   "source": []
  }
 ],
 "metadata": {
  "kernelspec": {
   "display_name": "Python 3 (ipykernel)",
   "language": "python",
   "name": "python3"
  },
  "language_info": {
   "codemirror_mode": {
    "name": "ipython",
    "version": 3
   },
   "file_extension": ".py",
   "mimetype": "text/x-python",
   "name": "python",
   "nbconvert_exporter": "python",
   "pygments_lexer": "ipython3",
   "version": "3.9.13"
  }
 },
 "nbformat": 4,
 "nbformat_minor": 5
}
