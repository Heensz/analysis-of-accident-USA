{
 "cells": [
  {
   "cell_type": "code",
   "execution_count": 9,
   "id": "c1f50207",
   "metadata": {},
   "outputs": [],
   "source": [
    "import pandas as pd\n",
    "import seaborn as sns\n",
    "import matplotlib.pyplot as plt"
   ]
  },
  {
   "cell_type": "markdown",
   "id": "32b9a378",
   "metadata": {},
   "source": [
    "## Анализ данных об авариях в США за 2022 год с целью их уменьшения."
   ]
  },
  {
   "cell_type": "markdown",
   "id": "411b8862",
   "metadata": {},
   "source": [
    "Целью данного проекта является анализ данных об авариях, произошедших в США в 2022 году, с целью выявления инсайтов и закономерностей, которые могут помочь в принятии мер по снижению количества аварий. Путем проведения исследовательского анализа мы стремимся выяснить, как погодные условия, время суток, серьезность ущерба, а также географические факторы влияют на количество происшедших аварий.\n",
    "\n",
    "Предполагаем, что анализ данных позволит выявить основные факторы, которые влияют на количество аварий в США. Эти результаты могут стать основой для разработки мер по снижению аварийности на дорогах, включая улучшение дорожной инфраструктуры, введение ограничений в определенных условиях, улучшение погодных прогнозов и других мер безопасности.\n",
    "\n",
    "План работы:\n",
    "\n",
    "Шаг 1. Загрузка данных\n",
    "\n",
    "Шаг 2. Предобработка данных\n",
    "\n",
    "2.1 Проверить пропуски и дубликаты\n",
    "\n",
    "2.2 Привести названия столбцов к змеиному типу\n",
    "\n",
    "2.3 Выделить столбик с месяцем аварии\n",
    "\n",
    "Шаг 3. Исследовательский анализ\n",
    "\n",
    "\n",
    "3.1 Анализ степени серьезности аварий (severity):\n",
    "\n",
    "    3.1.1 Определить наиболее часто встречающуюся степень серьезности аварий.\n",
    "\n",
    "    3.1.2 Проанализировать зависимость между степенью серьезности и погодными условиями, временем суток и другими факторами.\n",
    "\n",
    "    3.1.3 Влияние погодных условий на аварии:\n",
    "\n",
    "3.2 Определить, какие погодные условия (дождь, снег, туман, температура, видимость, скорость ветра) чаще всего сопровождают аварии.\n",
    "\n",
    "    3.2.2 Исследовать связь между погодными условиями и степенью серьезности аварий.\n",
    "\n",
    "    3.3.3\n",
    "\n",
    "3.3 Географические особенности:\n",
    "\n",
    "    3.2.1 Изучить распределение аварий по городам, штатам и странам.\n",
    "\n",
    "    3.3.2 Определить наиболее аварийные местности и выявить причины их повышенной аварийности.\n",
    "\n",
    "    3.3.3 Влияние времени суток на аварии:\n",
    "\n",
    "3.4 Проанализировать количество аварий в зависимости от времени суток (день/ночь).\n",
    "\n",
    "    3.4.1 Определить, возможно ли сезонное влияние на частоту происшедших аварий.\n",
    "\n",
    "    3.4.2 Влияние дополнительных факторов на аварии:\n",
    "\n",
    "3.5 Оценить, как наличие различных объектов и удобств в близлежащих местах (например, перекрестков, светофоров, станций) влияет на количество аварий.\n",
    "\n",
    "3.6 Проанализировать, как световые условия влияют на количесвто аварий:\n",
    "\n",
    "3.6.1 Проанализировать различия в количестве аварий в зависимости от периода дня (день/ночь) и световых условий (гражданские, морские, астрономические сумерки)."
   ]
  },
  {
   "cell_type": "markdown",
   "id": "232d9a8b",
   "metadata": {},
   "source": [
    "## Предобработка данных."
   ]
  },
  {
   "cell_type": "code",
   "execution_count": 10,
   "id": "20b0f324",
   "metadata": {},
   "outputs": [],
   "source": [
    "# укажем путь к датасету\n",
    "csv_file_path = \"D:\\\\учеба\\\\Методич\\\\US_Accidents_March23.csv\""
   ]
  },
  {
   "cell_type": "code",
   "execution_count": 11,
   "id": "09aa534e",
   "metadata": {},
   "outputs": [
    {
     "name": "stdout",
     "output_type": "stream",
     "text": [
      "Общее число строк в файле: 7728394\n"
     ]
    }
   ],
   "source": [
    "# Чтение данных порциями с использованием параметра chunksize\n",
    "chunk_size = 100000  # Указать подходящий размер порции\n",
    "chunks = pd.read_csv(csv_file_path, chunksize=chunk_size)\n",
    "\n",
    "# подсчет общего числа строк в файле\n",
    "total_rows = 0\n",
    "\n",
    "# Обработка данных в цикле\n",
    "for chunk in chunks:\n",
    "    total_rows += len(chunk)\n",
    "\n",
    "# Вывод общего числа строк в файле\n",
    "print(\"Общее число строк в файле:\", total_rows)\n"
   ]
  },
  {
   "cell_type": "code",
   "execution_count": 13,
   "id": "96e846c1",
   "metadata": {},
   "outputs": [],
   "source": [
    "# Посмотрим общую информацию о данных в каждой порции\n",
    "for chunk in chunks:\n",
    "    print(chunk.info())"
   ]
  },
  {
   "cell_type": "code",
   "execution_count": 14,
   "id": "2d0e393b",
   "metadata": {
    "scrolled": true
   },
   "outputs": [
    {
     "name": "stdout",
     "output_type": "stream",
     "text": [
      "             ID   Source  Severity           Start_Time             End_Time  \\\n",
      "0           A-1  Source2         3  2016-02-08 05:46:00  2016-02-08 11:00:00   \n",
      "1           A-2  Source2         2  2016-02-08 06:07:59  2016-02-08 06:37:59   \n",
      "2           A-3  Source2         2  2016-02-08 06:49:27  2016-02-08 07:19:27   \n",
      "3           A-4  Source2         3  2016-02-08 07:23:34  2016-02-08 07:53:34   \n",
      "4           A-5  Source2         2  2016-02-08 07:39:07  2016-02-08 08:09:07   \n",
      "...         ...      ...       ...                  ...                  ...   \n",
      "99995  A-100002  Source2         3  2016-04-05 15:52:14  2016-04-05 16:52:14   \n",
      "99996  A-100003  Source2         3  2016-04-05 15:57:10  2016-04-05 16:57:10   \n",
      "99997  A-100004  Source2         2  2016-04-05 16:02:16  2016-04-05 17:02:16   \n",
      "99998  A-100005  Source3         2  2016-04-05 16:01:17  2016-04-05 17:01:17   \n",
      "99999  A-100006  Source2         2  2016-04-05 16:06:41  2016-04-05 17:06:41   \n",
      "\n",
      "       Start_Lat   Start_Lng  End_Lat  End_Lng  Distance(mi)  ... Roundabout  \\\n",
      "0      39.865147  -84.058723      NaN      NaN          0.01  ...      False   \n",
      "1      39.928059  -82.831184      NaN      NaN          0.01  ...      False   \n",
      "2      39.063148  -84.032608      NaN      NaN          0.01  ...      False   \n",
      "3      39.747753  -84.205582      NaN      NaN          0.01  ...      False   \n",
      "4      39.627781  -84.188354      NaN      NaN          0.01  ...      False   \n",
      "...          ...         ...      ...      ...           ...  ...        ...   \n",
      "99995  32.731979 -117.111244      NaN      NaN          0.00  ...      False   \n",
      "99996  33.913029 -118.125389      NaN      NaN          0.00  ...      False   \n",
      "99997  34.121517 -117.536896      NaN      NaN          0.00  ...      False   \n",
      "99998  33.995079 -117.361183      NaN      NaN          0.00  ...      False   \n",
      "99999  34.034119 -118.013443      NaN      NaN          0.00  ...      False   \n",
      "\n",
      "      Station   Stop Traffic_Calming Traffic_Signal Turning_Loop  \\\n",
      "0       False  False           False          False        False   \n",
      "1       False  False           False          False        False   \n",
      "2       False  False           False           True        False   \n",
      "3       False  False           False          False        False   \n",
      "4       False  False           False           True        False   \n",
      "...       ...    ...             ...            ...          ...   \n",
      "99995   False  False           False          False        False   \n",
      "99996   False  False           False          False        False   \n",
      "99997   False  False           False           True        False   \n",
      "99998   False  False           False          False        False   \n",
      "99999   False  False           False          False        False   \n",
      "\n",
      "      Sunrise_Sunset Civil_Twilight Nautical_Twilight Astronomical_Twilight  \n",
      "0              Night          Night             Night                 Night  \n",
      "1              Night          Night             Night                   Day  \n",
      "2              Night          Night               Day                   Day  \n",
      "3              Night            Day               Day                   Day  \n",
      "4                Day            Day               Day                   Day  \n",
      "...              ...            ...               ...                   ...  \n",
      "99995            Day            Day               Day                   Day  \n",
      "99996            Day            Day               Day                   Day  \n",
      "99997            Day            Day               Day                   Day  \n",
      "99998            Day            Day               Day                   Day  \n",
      "99999            Day            Day               Day                   Day  \n",
      "\n",
      "[100000 rows x 46 columns]\n"
     ]
    }
   ],
   "source": [
    "# Чтение данных порциями с использованием параметра chunksize\n",
    "chunk_size = 100000\n",
    "chunks = pd.read_csv(csv_file_path, chunksize=chunk_size)\n",
    "\n",
    "# Выберем первую порцию данных и выведем ее содержимое\n",
    "first_chunk = next(chunks)\n",
    "print(first_chunk)"
   ]
  },
  {
   "cell_type": "code",
   "execution_count": 15,
   "id": "2b61ab8e",
   "metadata": {
    "scrolled": true
   },
   "outputs": [
    {
     "name": "stdout",
     "output_type": "stream",
     "text": [
      "<class 'pandas.core.frame.DataFrame'>\n",
      "Int64Index: 1762452 entries, 512217 to 5423496\n",
      "Data columns (total 46 columns):\n",
      " #   Column                 Dtype         \n",
      "---  ------                 -----         \n",
      " 0   ID                     object        \n",
      " 1   Source                 object        \n",
      " 2   Severity               int64         \n",
      " 3   Start_Time             datetime64[ns]\n",
      " 4   End_Time               object        \n",
      " 5   Start_Lat              float64       \n",
      " 6   Start_Lng              float64       \n",
      " 7   End_Lat                float64       \n",
      " 8   End_Lng                float64       \n",
      " 9   Distance(mi)           float64       \n",
      " 10  Description            object        \n",
      " 11  Street                 object        \n",
      " 12  City                   object        \n",
      " 13  County                 object        \n",
      " 14  State                  object        \n",
      " 15  Zipcode                object        \n",
      " 16  Country                object        \n",
      " 17  Timezone               object        \n",
      " 18  Airport_Code           object        \n",
      " 19  Weather_Timestamp      object        \n",
      " 20  Temperature(F)         float64       \n",
      " 21  Wind_Chill(F)          float64       \n",
      " 22  Humidity(%)            float64       \n",
      " 23  Pressure(in)           float64       \n",
      " 24  Visibility(mi)         float64       \n",
      " 25  Wind_Direction         object        \n",
      " 26  Wind_Speed(mph)        float64       \n",
      " 27  Precipitation(in)      float64       \n",
      " 28  Weather_Condition      object        \n",
      " 29  Amenity                bool          \n",
      " 30  Bump                   bool          \n",
      " 31  Crossing               bool          \n",
      " 32  Give_Way               bool          \n",
      " 33  Junction               bool          \n",
      " 34  No_Exit                bool          \n",
      " 35  Railway                bool          \n",
      " 36  Roundabout             bool          \n",
      " 37  Station                bool          \n",
      " 38  Stop                   bool          \n",
      " 39  Traffic_Calming        bool          \n",
      " 40  Traffic_Signal         bool          \n",
      " 41  Turning_Loop           bool          \n",
      " 42  Sunrise_Sunset         object        \n",
      " 43  Civil_Twilight         object        \n",
      " 44  Nautical_Twilight      object        \n",
      " 45  Astronomical_Twilight  object        \n",
      "dtypes: bool(13), datetime64[ns](1), float64(12), int64(1), object(19)\n",
      "memory usage: 479.0+ MB\n",
      "None\n"
     ]
    }
   ],
   "source": [
    "# Создаём пустой список, чтобы хранить отфильтрованные части данных\n",
    "filtered_chunks = []\n",
    "\n",
    "# Проходёмся по каждой части данных, применим операции с датами и фильтрацию\n",
    "for chunk in chunks:\n",
    "    # Преобразуем столбец 'Start_Time' в тип datetime\n",
    "    chunk['Start_Time'] = pd.to_datetime(chunk['Start_Time'])\n",
    "    # Создаём условие фильтрации для получения строк за 2022 год\n",
    "    condition = (chunk['Start_Time'].dt.year == 2022)\n",
    "    # Применим условие фильтрации к текущей части данных\n",
    "    filtered_chunk = chunk[condition]\n",
    "    # Если есть хотя бы одна строка удовлетворяющая условию, добавим отфильтрованную часть данных в список\n",
    "    if not filtered_chunk.empty:\n",
    "        filtered_chunks.append(filtered_chunk)\n",
    "\n",
    "# Проверим, что хотя бы одна часть данных удовлетворяет условию фильтрации\n",
    "if len(filtered_chunks) > 0:\n",
    "    # Объединим отфильтрованные части данных в один DataFrame\n",
    "    df_2022 = pd.concat(filtered_chunks)\n",
    "    # Выведем информацию о DataFrame\n",
    "    print(df_2022.info())\n",
    "else:\n",
    "    print(\"Нет данных за 2022 год.\")\n"
   ]
  },
  {
   "cell_type": "code",
   "execution_count": 16,
   "id": "502e5aea",
   "metadata": {},
   "outputs": [],
   "source": [
    "# Создаём новый DataFrame, копируя данные из отфильтрованного DataFrame\n",
    "new_df = df_2022.copy()"
   ]
  },
  {
   "cell_type": "code",
   "execution_count": 17,
   "id": "bf6f100f",
   "metadata": {},
   "outputs": [
    {
     "data": {
      "text/html": [
       "<div>\n",
       "<style scoped>\n",
       "    .dataframe tbody tr th:only-of-type {\n",
       "        vertical-align: middle;\n",
       "    }\n",
       "\n",
       "    .dataframe tbody tr th {\n",
       "        vertical-align: top;\n",
       "    }\n",
       "\n",
       "    .dataframe thead th {\n",
       "        text-align: right;\n",
       "    }\n",
       "</style>\n",
       "<table border=\"1\" class=\"dataframe\">\n",
       "  <thead>\n",
       "    <tr style=\"text-align: right;\">\n",
       "      <th></th>\n",
       "      <th>id</th>\n",
       "      <th>source</th>\n",
       "      <th>severity</th>\n",
       "      <th>start_time</th>\n",
       "      <th>end_time</th>\n",
       "      <th>start_lat</th>\n",
       "      <th>start_lng</th>\n",
       "      <th>end_lat</th>\n",
       "      <th>end_lng</th>\n",
       "      <th>distance(mi)</th>\n",
       "      <th>...</th>\n",
       "      <th>roundabout</th>\n",
       "      <th>station</th>\n",
       "      <th>stop</th>\n",
       "      <th>traffic_calming</th>\n",
       "      <th>traffic_signal</th>\n",
       "      <th>turning_loop</th>\n",
       "      <th>sunrise_sunset</th>\n",
       "      <th>civil_twilight</th>\n",
       "      <th>nautical_twilight</th>\n",
       "      <th>astronomical_twilight</th>\n",
       "    </tr>\n",
       "  </thead>\n",
       "  <tbody>\n",
       "    <tr>\n",
       "      <th>512217</th>\n",
       "      <td>A-512230</td>\n",
       "      <td>Source2</td>\n",
       "      <td>1</td>\n",
       "      <td>2022-09-08 05:49:30</td>\n",
       "      <td>2022-09-08 06:34:53</td>\n",
       "      <td>41.946796</td>\n",
       "      <td>-88.208092</td>\n",
       "      <td>NaN</td>\n",
       "      <td>NaN</td>\n",
       "      <td>0.00</td>\n",
       "      <td>...</td>\n",
       "      <td>False</td>\n",
       "      <td>False</td>\n",
       "      <td>False</td>\n",
       "      <td>False</td>\n",
       "      <td>True</td>\n",
       "      <td>False</td>\n",
       "      <td>Night</td>\n",
       "      <td>Night</td>\n",
       "      <td>Day</td>\n",
       "      <td>Day</td>\n",
       "    </tr>\n",
       "    <tr>\n",
       "      <th>512218</th>\n",
       "      <td>A-512231</td>\n",
       "      <td>Source2</td>\n",
       "      <td>1</td>\n",
       "      <td>2022-09-08 02:02:05</td>\n",
       "      <td>2022-09-08 04:31:32</td>\n",
       "      <td>34.521172</td>\n",
       "      <td>-117.958076</td>\n",
       "      <td>NaN</td>\n",
       "      <td>NaN</td>\n",
       "      <td>0.00</td>\n",
       "      <td>...</td>\n",
       "      <td>False</td>\n",
       "      <td>False</td>\n",
       "      <td>False</td>\n",
       "      <td>False</td>\n",
       "      <td>False</td>\n",
       "      <td>False</td>\n",
       "      <td>Night</td>\n",
       "      <td>Night</td>\n",
       "      <td>Night</td>\n",
       "      <td>Night</td>\n",
       "    </tr>\n",
       "    <tr>\n",
       "      <th>512219</th>\n",
       "      <td>A-512232</td>\n",
       "      <td>Source2</td>\n",
       "      <td>1</td>\n",
       "      <td>2022-09-08 05:14:12</td>\n",
       "      <td>2022-09-08 07:38:17</td>\n",
       "      <td>37.542839</td>\n",
       "      <td>-77.441780</td>\n",
       "      <td>NaN</td>\n",
       "      <td>NaN</td>\n",
       "      <td>0.00</td>\n",
       "      <td>...</td>\n",
       "      <td>False</td>\n",
       "      <td>False</td>\n",
       "      <td>False</td>\n",
       "      <td>False</td>\n",
       "      <td>True</td>\n",
       "      <td>False</td>\n",
       "      <td>Night</td>\n",
       "      <td>Night</td>\n",
       "      <td>Night</td>\n",
       "      <td>Night</td>\n",
       "    </tr>\n",
       "    <tr>\n",
       "      <th>512220</th>\n",
       "      <td>A-512233</td>\n",
       "      <td>Source2</td>\n",
       "      <td>1</td>\n",
       "      <td>2022-09-08 06:22:57</td>\n",
       "      <td>2022-09-08 06:52:42</td>\n",
       "      <td>40.896629</td>\n",
       "      <td>-81.178452</td>\n",
       "      <td>NaN</td>\n",
       "      <td>NaN</td>\n",
       "      <td>0.00</td>\n",
       "      <td>...</td>\n",
       "      <td>False</td>\n",
       "      <td>False</td>\n",
       "      <td>False</td>\n",
       "      <td>False</td>\n",
       "      <td>False</td>\n",
       "      <td>False</td>\n",
       "      <td>Night</td>\n",
       "      <td>Night</td>\n",
       "      <td>Day</td>\n",
       "      <td>Day</td>\n",
       "    </tr>\n",
       "    <tr>\n",
       "      <th>512221</th>\n",
       "      <td>A-512234</td>\n",
       "      <td>Source2</td>\n",
       "      <td>2</td>\n",
       "      <td>2022-09-08 06:36:20</td>\n",
       "      <td>2022-09-08 07:05:58</td>\n",
       "      <td>41.409359</td>\n",
       "      <td>-81.644318</td>\n",
       "      <td>NaN</td>\n",
       "      <td>NaN</td>\n",
       "      <td>1.91</td>\n",
       "      <td>...</td>\n",
       "      <td>False</td>\n",
       "      <td>False</td>\n",
       "      <td>False</td>\n",
       "      <td>False</td>\n",
       "      <td>False</td>\n",
       "      <td>False</td>\n",
       "      <td>Night</td>\n",
       "      <td>Day</td>\n",
       "      <td>Day</td>\n",
       "      <td>Day</td>\n",
       "    </tr>\n",
       "  </tbody>\n",
       "</table>\n",
       "<p>5 rows × 46 columns</p>\n",
       "</div>"
      ],
      "text/plain": [
       "              id   source  severity          start_time             end_time  \\\n",
       "512217  A-512230  Source2         1 2022-09-08 05:49:30  2022-09-08 06:34:53   \n",
       "512218  A-512231  Source2         1 2022-09-08 02:02:05  2022-09-08 04:31:32   \n",
       "512219  A-512232  Source2         1 2022-09-08 05:14:12  2022-09-08 07:38:17   \n",
       "512220  A-512233  Source2         1 2022-09-08 06:22:57  2022-09-08 06:52:42   \n",
       "512221  A-512234  Source2         2 2022-09-08 06:36:20  2022-09-08 07:05:58   \n",
       "\n",
       "        start_lat   start_lng  end_lat  end_lng  distance(mi)  ... roundabout  \\\n",
       "512217  41.946796  -88.208092      NaN      NaN          0.00  ...      False   \n",
       "512218  34.521172 -117.958076      NaN      NaN          0.00  ...      False   \n",
       "512219  37.542839  -77.441780      NaN      NaN          0.00  ...      False   \n",
       "512220  40.896629  -81.178452      NaN      NaN          0.00  ...      False   \n",
       "512221  41.409359  -81.644318      NaN      NaN          1.91  ...      False   \n",
       "\n",
       "       station   stop traffic_calming traffic_signal turning_loop  \\\n",
       "512217   False  False           False           True        False   \n",
       "512218   False  False           False          False        False   \n",
       "512219   False  False           False           True        False   \n",
       "512220   False  False           False          False        False   \n",
       "512221   False  False           False          False        False   \n",
       "\n",
       "       sunrise_sunset civil_twilight nautical_twilight astronomical_twilight  \n",
       "512217          Night          Night               Day                   Day  \n",
       "512218          Night          Night             Night                 Night  \n",
       "512219          Night          Night             Night                 Night  \n",
       "512220          Night          Night               Day                   Day  \n",
       "512221          Night            Day               Day                   Day  \n",
       "\n",
       "[5 rows x 46 columns]"
      ]
     },
     "metadata": {},
     "output_type": "display_data"
    }
   ],
   "source": [
    "# приведём названия столбцов к единому типу\n",
    "new_df.columns = [x.lower().replace(' ', '_') for x in new_df.columns]\n",
    "display(new_df.head())"
   ]
  },
  {
   "cell_type": "code",
   "execution_count": 18,
   "id": "15f3a29a",
   "metadata": {},
   "outputs": [
    {
     "data": {
      "text/plain": [
       "id                            0\n",
       "source                        0\n",
       "severity                      0\n",
       "start_time                    0\n",
       "end_time                      0\n",
       "start_lat                     0\n",
       "start_lng                     0\n",
       "end_lat                  236182\n",
       "end_lng                  236182\n",
       "distance(mi)                  0\n",
       "description                   0\n",
       "street                     7236\n",
       "city                         65\n",
       "county                        0\n",
       "state                         0\n",
       "zipcode                     307\n",
       "country                       0\n",
       "timezone                   1713\n",
       "airport_code               7199\n",
       "weather_timestamp         29595\n",
       "temperature(f)            38718\n",
       "wind_chill(f)             54508\n",
       "humidity(%)               41107\n",
       "pressure(in)              33134\n",
       "visibility(mi)            41953\n",
       "wind_direction            48385\n",
       "wind_speed(mph)           48377\n",
       "precipitation(in)         64475\n",
       "weather_condition         38688\n",
       "amenity                       0\n",
       "bump                          0\n",
       "crossing                      0\n",
       "give_way                      0\n",
       "junction                      0\n",
       "no_exit                       0\n",
       "railway                       0\n",
       "roundabout                    0\n",
       "station                       0\n",
       "stop                          0\n",
       "traffic_calming               0\n",
       "traffic_signal                0\n",
       "turning_loop                  0\n",
       "sunrise_sunset            14896\n",
       "civil_twilight            14896\n",
       "nautical_twilight         14896\n",
       "astronomical_twilight     14896\n",
       "dtype: int64"
      ]
     },
     "execution_count": 18,
     "metadata": {},
     "output_type": "execute_result"
    }
   ],
   "source": [
    "# посмотрим пропуски\n",
    "new_df.isna().sum()"
   ]
  },
  {
   "cell_type": "markdown",
   "id": "f8e757fe",
   "metadata": {},
   "source": [
    "id - идентификатор аварии\n",
    "\n",
    "source - источник, сообщивший об аварии\n",
    "\n",
    "severity - степень серьёзности (от 1 до 4)\n",
    "\n",
    "start_time - время начала аварии\n",
    "\n",
    "end_time - время конца аварии\n",
    "\n",
    "start_lat - начальная широта\n",
    "\n",
    "start_lng  - начальная долгота\n",
    "\n",
    "end_lat  - конечная широта\n",
    "\n",
    "end_lng  - конечная долгота\n",
    "\n",
    "distance(mi) - Протяженность дороги, затронутой аварией, в милях\n",
    "\n",
    "description - описание аварии\n",
    "\n",
    "street - улица\n",
    "\n",
    "city - город\n",
    "\n",
    "county - страна\n",
    "\n",
    "state - штат\n",
    "\n",
    "zipcode - индекс\n",
    "\n",
    "country  - страна\n",
    "\n",
    "timezone - часовой пояс\n",
    "\n",
    "airport_code - код аэропорта\n",
    "\n",
    "weather_timestamp - время наблюдения за погодой\n",
    "\n",
    "Temperature(F) -  температура воздуха (в Фаренгейтах).\n",
    "\n",
    "Wind_Chill(F) - холод ветра (по Фаренгейту).\n",
    "\n",
    "Humidity(%) -  влажность (в процентах).\n",
    "\n",
    "Pressure(in) - давление воздуха (в дюймах).\n",
    "\n",
    "Visibility(mi) -  видимость (в милях).\n",
    "\n",
    "Wind_Direction -  направление ветра.\n",
    "\n",
    "Wind_Speed(mph) - скорость ветра (в милях в час).\n",
    "\n",
    "Precipitation(in) - количество осадков в дюймах, если они есть.\n",
    "\n",
    "Weather_Condition - погодные условия (дождь, снег, гроза, туман и т.д.).\n",
    "\n",
    "amenity - наличие удобств в близлежащем месте\n",
    "\n",
    "bump - наличие лежачего полицейского\n",
    "\n",
    "crossing - наличие перекрестка в близлежащем месте.\n",
    "\n",
    "give_way - наличие знака Уступи дорогу\n",
    "\n",
    "junction - наличие перекрестка в соседнем месте.\n",
    "\n",
    "no_exit\n",
    "\n",
    "railway - наличие поблизости железной дороги.\n",
    "\n",
    "roundabout - наличие кольцевой развязки поблизости.\n",
    "\n",
    "station - наличие станции поблизости\n",
    "\n",
    "stop - наличие остановки поблизости.\n",
    "\n",
    "traffic_calming\n",
    "\n",
    "traffic_signal - сигнал светофора\n",
    "\n",
    "turning_loop\n",
    "\n",
    "sunrise_sunset - период дня (т.е. день или ночь) в зависимости от восхода/захода солнца.\n",
    "\n",
    "civil_twilight - период дня (т.е. день или ночь) на основе гражданских сумерек.\n",
    "\n",
    "nautical_twilight - период дня (т.е. день или ночь) на основе морских сумерек.\n",
    "\n",
    "astronomical_twilight - период дня (т.е. день или ночь) на основе астрономических сумерек."
   ]
  },
  {
   "cell_type": "code",
   "execution_count": 30,
   "id": "7616426d",
   "metadata": {},
   "outputs": [],
   "source": [
    "#удалим из датасета столбцы, которые нам точно не нужны\n",
    "#new_df = new_df.drop(['source', 'zipcode', 'no_exit', 'traffic_calming', 'turning_loop'], axis=1)"
   ]
  },
  {
   "cell_type": "code",
   "execution_count": 26,
   "id": "1f3a7c72",
   "metadata": {},
   "outputs": [
    {
     "data": {
      "text/plain": [
       "1762452"
      ]
     },
     "execution_count": 26,
     "metadata": {},
     "output_type": "execute_result"
    }
   ],
   "source": [
    "#посчитаем количество аварий за 2022 год\n",
    "new_df['id'].count()"
   ]
  },
  {
   "cell_type": "code",
   "execution_count": 27,
   "id": "e366cd0c",
   "metadata": {
    "scrolled": true
   },
   "outputs": [
    {
     "name": "stdout",
     "output_type": "stream",
     "text": [
      "Количество аварий ночью: 492367\n"
     ]
    }
   ],
   "source": [
    "print(\"Количество аварий ночью:\", new_df.query('sunrise_sunset == \"Night\"')['id'].count())"
   ]
  },
  {
   "cell_type": "code",
   "execution_count": 29,
   "id": "a43b1df5",
   "metadata": {},
   "outputs": [
    {
     "name": "stdout",
     "output_type": "stream",
     "text": [
      "количество аварий днём 1255189\n"
     ]
    }
   ],
   "source": [
    "print(\"количество аварий днём\", new_df.query('sunrise_sunset == \"Day\"')['id'].count())"
   ]
  },
  {
   "cell_type": "markdown",
   "id": "7c43a7ca",
   "metadata": {},
   "source": [
    "Днём количество аварий больше в 2,5 раза, это связано с интенсивностью движения."
   ]
  },
  {
   "cell_type": "code",
   "execution_count": null,
   "id": "23ce1d6d",
   "metadata": {
    "scrolled": true
   },
   "outputs": [
    {
     "data": {
      "text/plain": [
       "<AxesSubplot:xlabel='state'>"
      ]
     },
     "execution_count": 17,
     "metadata": {},
     "output_type": "execute_result"
    },
    {
     "data": {
      "image/png": "[encoded data removed]",
      "text/plain": [
       "<Figure size 864x576 with 1 Axes>"
      ]
     },
     "metadata": {
      "needs_background": "light"
     },
     "output_type": "display_data"
    }
   ],
   "source": [
    "#количество аварий по штатам\n",
    "new_df.groupby('state')['id'].count().sort_values(ascending=False).plot(kind='bar', figsize=(12,8))"
   ]
  },
  {
   "cell_type": "markdown",
   "id": "df97d86d",
   "metadata": {},
   "source": [
    "Общая численность в каждом штате:\n",
    "    \n",
    "    соотнести кол-во жителей и количество аварий. (Какой процент в каждои штате?)"
   ]
  },
  {
   "cell_type": "markdown",
   "id": "9813756f",
   "metadata": {},
   "source": [
    "Больше всего аварий 2 степени серьёзности - около 1,6 млн"
   ]
  },
  {
   "cell_type": "code",
   "execution_count": null,
   "id": "92a6196a",
   "metadata": {
    "scrolled": false
   },
   "outputs": [
    {
     "data": {
      "text/plain": [
       "<AxesSubplot:xlabel='city'>"
      ]
     },
     "execution_count": 59,
     "metadata": {},
     "output_type": "execute_result"
    },
    {
     "data": {
      "image/png": "[encoded data removed]",
      "text/plain": [
       "<Figure size 1080x720 with 1 Axes>"
      ]
     },
     "metadata": {
      "needs_background": "light"
     },
     "output_type": "display_data"
    }
   ],
   "source": [
    "# посмотрим, в каких городах больше всего аварий\n",
    "new_df.groupby('city')['id'].count().sort_values(ascending=False).head(15).plot(kind='bar', figsize = (15,10))"
   ]
  },
  {
   "cell_type": "code",
   "execution_count": null,
   "id": "e6337186",
   "metadata": {},
   "outputs": [
    {
     "data": {
      "text/plain": [
       "city\n",
       "Miami          64544\n",
       "Orlando        36413\n",
       "Los Angeles    31072\n",
       "Houston        25865\n",
       "Dallas         24306\n",
       "Charlotte      23308\n",
       "Raleigh        16410\n",
       "Nashville      14368\n",
       "Baton Rouge    13683\n",
       "Sacramento     13543\n",
       "San Diego      13324\n",
       "Richmond       12514\n",
       "Atlanta        11234\n",
       "Austin         10906\n",
       "New Orleans    10704\n",
       "Name: id, dtype: int64"
      ]
     },
     "execution_count": 62,
     "metadata": {},
     "output_type": "execute_result"
    }
   ],
   "source": [
    "new_df.groupby('city')['id'].count().sort_values(ascending=False).head(15)"
   ]
  },
  {
   "cell_type": "markdown",
   "id": "afd2cd44",
   "metadata": {},
   "source": [
    "В городах Майами и Орландо было больше всего аварий (64544 и 36413) при плотности населения: Майами - 435 919 чел., Орландо -287 442 чел. При этом в городах миллионниках аварий было меньше, чем Майами и Орландо, например:\n",
    "\n",
    "1. Лос-Анджелись - население 3 898 747\n",
    "2. Хьюстон 2 320 268\n",
    "3. Dallas "
   ]
  },
  {
   "cell_type": "code",
   "execution_count": null,
   "id": "9d282eca",
   "metadata": {},
   "outputs": [],
   "source": [
    "# Оценим количество аварий в развивке по серьёзности ущерба\n",
    "new_df.groupby('severity')['id'].count().sort_values(ascending=False).plot(kind='bar', figsize=(12,8))"
   ]
  },
  {
   "cell_type": "code",
   "execution_count": null,
   "id": "1a82f5c1",
   "metadata": {},
   "outputs": [],
   "source": [
    "# Удалить столбцы 'Column1' и 'Column2' из DataFrame df, чтоб создать датафрейм с погодой\n",
    "weather = new_df.drop(['source', 'start_Time', 'end_time', 'Start_Lat', 'End_Lat', 'End_Lng', 'Distance(mi)', 'Description', 'Zipcode', 'Timezone', 'Airport_Code', 'Amenity', 'Bump', 'Crossing', 'Give_Way', 'Junction', 'No_Exit', 'Railway', 'Roundabout', 'Station', 'Stop', 'Traffic_Calming', 'Traffic_Signal', 'Turning_Loop', 'Sunrise_Sunset', 'Civil_Twilight', 'Nautical_Twilight', 'Astronomical_Twilight'], axis=1)"
   ]
  },
  {
   "cell_type": "code",
   "execution_count": null,
   "id": "fd9812ea",
   "metadata": {},
   "outputs": [],
   "source": [
    "weather"
   ]
  },
  {
   "cell_type": "markdown",
   "id": "5e8dd77d",
   "metadata": {},
   "source": [
    "Temperature(F) - Показывает температуру (в Фаренгейтах).\n",
    "\n",
    "Wind_Chill(F) - Показывает холод ветра (по Фаренгейту).\n",
    "\n",
    "Humidity(%) - Показывает влажность (в процентах).\n",
    "\n",
    "Pressure(in) - Показывает давление воздуха (в дюймах).\n",
    "\n",
    "Visibility(mi) - Показывает видимость (в милях).\n",
    "\n",
    "Wind_Direction - Показывает направление ветра.\n",
    "\n",
    "Wind_Speed(mph) - Показывает скорость ветра (в милях в час).\n",
    "\n",
    "Precipitation(in) - Показывает количество осадков в дюймах, если они есть.\n",
    "\n",
    "Weather_Condition - Показывает погодные условия (дождь, снег, гроза, туман и т.д.)."
   ]
  },
  {
   "cell_type": "code",
   "execution_count": null,
   "id": "6ccff36d",
   "metadata": {
    "scrolled": true
   },
   "outputs": [],
   "source": [
    "weather.corr()"
   ]
  },
  {
   "cell_type": "code",
   "execution_count": null,
   "id": "9096b96c",
   "metadata": {},
   "outputs": [],
   "source": [
    "# Предположим, что у вас уже есть DataFrame weather с данными о погоде\n",
    "# Если вы хотите построить тепловую карту для всех числовых столбцов, можно сделать так:\n",
    "correlation_matrix = weather.corr()\n",
    "\n",
    "# Используем библиотеку Seaborn для построения тепловой карты\n",
    "plt.figure(figsize=(10, 8))\n",
    "sns.heatmap(correlation_matrix, annot=True, cmap=\"coolwarm\", fmt=\".2f\")\n",
    "plt.title(\"Тепловая карта корреляции\")\n",
    "plt.show()\n"
   ]
  },
  {
   "cell_type": "code",
   "execution_count": null,
   "id": "8b1f7f6a",
   "metadata": {},
   "outputs": [],
   "source": [
    "twilight = new_df.drop(['Weather_Timestamp', 'Temperature(F)', 'Wind_Chill(F)', 'Humidity(%)', 'Pressure(in)', 'Visibility(mi)', 'Wind_Direction', 'Wind_Speed(mph)', 'Precipitation(in)', 'Weather_Condition','Zipcode', 'Timezone', 'Airport_Code', 'Amenity', 'Bump', 'Crossing', 'Give_Way', 'Junction', 'No_Exit', 'Railway', 'Roundabout', 'Station', 'Stop', 'Traffic_Calming', 'Traffic_Signal', 'Turning_Loop'], axis=1)"
   ]
  },
  {
   "cell_type": "code",
   "execution_count": null,
   "id": "0e759262",
   "metadata": {},
   "outputs": [],
   "source": [
    "twilight.corr()"
   ]
  },
  {
   "cell_type": "code",
   "execution_count": null,
   "id": "9cb6e033",
   "metadata": {},
   "outputs": [],
   "source": [
    "correlation_2 = twilight.corr()\n",
    "# Используем библиотеку Seaborn для построения тепловой карты\n",
    "plt.figure(figsize=(10, 8))\n",
    "sns.heatmap(correlation_2, annot=True, cmap=\"coolwarm\", fmt=\".2f\")\n",
    "plt.title(\"Тепловая карта корреляции\")\n",
    "plt.show()"
   ]
  },
  {
   "cell_type": "code",
   "execution_count": null,
   "id": "5d1ce924",
   "metadata": {},
   "outputs": [],
   "source": []
  }
 ],
 "metadata": {
  "kernelspec": {
   "display_name": "Python 3 (ipykernel)",
   "language": "python",
   "name": "python3"
  },
  "language_info": {
   "codemirror_mode": {
    "name": "ipython",
    "version": 3
   },
   "file_extension": ".py",
   "mimetype": "text/x-python",
   "name": "python",
   "nbconvert_exporter": "python",
   "pygments_lexer": "ipython3",
   "version": "3.9.13"
  }
 },
 "nbformat": 4,
 "nbformat_minor": 5
}
